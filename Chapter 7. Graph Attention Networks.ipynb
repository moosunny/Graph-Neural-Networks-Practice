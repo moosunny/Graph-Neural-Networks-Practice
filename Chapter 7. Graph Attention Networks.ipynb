{
  "nbformat": 4,
  "nbformat_minor": 0,
  "metadata": {
    "colab": {
      "provenance": [],
      "authorship_tag": "ABX9TyOwxQiu7VxKi3cJg1Biprhe",
      "include_colab_link": true
    },
    "kernelspec": {
      "name": "python3",
      "display_name": "Python 3"
    },
    "language_info": {
      "name": "python"
    }
  },
  "cells": [
    {
      "cell_type": "markdown",
      "metadata": {
        "id": "view-in-github",
        "colab_type": "text"
      },
      "source": [
        "<a href=\"https://colab.research.google.com/github/moosunny/Graph-Neural-Networks-Practice/blob/main/Chapter%207.%20Graph%20Attention%20Networks.ipynb\" target=\"_parent\"><img src=\"https://colab.research.google.com/assets/colab-badge.svg\" alt=\"Open In Colab\"/></a>"
      ]
    },
    {
      "cell_type": "markdown",
      "source": [
        "# Chapter 7. Graph Attention Networks"
      ],
      "metadata": {
        "id": "OOQEKUEycEYT"
      }
    },
    {
      "cell_type": "markdown",
      "source": [
        "### Introducing the graph attention layer\n",
        "\n",
        "이전 chapter에서 소개된 GCN은 노드별로 보유한 이웃 노드의 개수를 고려하여 이웃 노드의 개수가 적은 노드의 경우 중요한 정보를 갖고 있음을 확인했다. 하지만, 노드의 차수(degree)만을 고려했다는 한계가 있었다.\n",
        "\n",
        "Graph Attention Layer의 경우 가중된 요소인 각 노드 feature의 중요도를 고려한다. 하기 식은 가중치 요소라고 불리는 attention score를 계산하여 노드 $i$, $j$ 간의 attention score를 계산하는 식이다.\n",
        "\n",
        "$$\n",
        "h_i = \\sum_{j \\in N_i}{\\alpha_{ij}Wx_j}\n",
        "$$"
      ],
      "metadata": {
        "id": "xU9CASXkcMpX"
      }
    },
    {
      "cell_type": "markdown",
      "source": [
        "### Linear Transformation\n",
        "\n",
        "attention score는 중심이 되는 노드 $i$와 이웃 노드 $j$의 중요도를 나타낸다. 각 노드의 feature들이 필요하고 그래프 구조에서는 hidden 벡터들의 concat으로 표현된다. $[Wx_i \\parallel Wx_j]$\n",
        "\n",
        "${W}$는 전통적으로 활용되어왔던 가중치 행렬을 나타낸다. GAT의 특징은 learnerable parameter인 W_att 행렬을 통해서 추가적인 선형 변환이 요구된다. 모델의 학습 과정에서 $W_{att}$ 행렬은 지속적으로 업데이트되면서 행렬 $a_{ij}$ attention coefficient를 만든다.\n",
        "\n",
        "$$\n",
        "a_{ij} = W_{att}^T[W_{xi} \\parallel W_{xj}]\n",
        "$$"
      ],
      "metadata": {
        "id": "dCkeOuu_wd-L"
      }
    },
    {
      "cell_type": "markdown",
      "source": [
        "### Implementing the graph attention layer in Numpy"
      ],
      "metadata": {
        "id": "gxmmImsSPyRm"
      }
    },
    {
      "cell_type": "markdown",
      "source": [
        "그래프 데이터 셋은 반드시 두 개의 요소가 필요하다.\n",
        "1. self-loop를 포함한 인접행렬: $\\tilde{A}$\n",
        "2. node features: $X$"
      ],
      "metadata": {
        "id": "Sg6vUEPGnRgC"
      }
    },
    {
      "cell_type": "code",
      "source": [
        "import numpy as np\n",
        "np.random.seed(42)\n",
        "\n",
        "# 인접행렬 생성, 노드: 4개, edge 개수: 8개(self-loop 포함)\n",
        "A = np.array([\n",
        "    [1, 1, 1, 1],\n",
        "    [1, 1, 0, 0],\n",
        "    [1, 0, 1, 1],\n",
        "    [1, 0, 1, 1],\n",
        "    ])\n",
        "\n",
        "# 노드 feature 행렬 생성\n",
        "X = np.random.uniform(-1,1, (4,4))\n",
        "X"
      ],
      "metadata": {
        "colab": {
          "base_uri": "https://localhost:8080/"
        },
        "id": "Zy0y8htCh0KG",
        "outputId": "b84d7d19-eed0-4078-c620-1b5e1bd97e8b"
      },
      "execution_count": 1,
      "outputs": [
        {
          "output_type": "execute_result",
          "data": {
            "text/plain": [
              "array([[-0.25091976,  0.90142861,  0.46398788,  0.19731697],\n",
              "       [-0.68796272, -0.68801096, -0.88383278,  0.73235229],\n",
              "       [ 0.20223002,  0.41614516, -0.95883101,  0.9398197 ],\n",
              "       [ 0.66488528, -0.57532178, -0.63635007, -0.63319098]])"
            ]
          },
          "metadata": {},
          "execution_count": 1
        }
      ]
    },
    {
      "cell_type": "markdown",
      "source": [
        "그래프 구조에서의 인접행렬과 node feature 행렬이 정의되었다면, 다음에는 가중치 행렬이 정의될 순서이다. GAT의 가중치 행렬에는 두가지 행렬이 있다.\n",
        "\n",
        "1. $W_{att}$: attention weight matrix(Xabier or He initialization)\n",
        "2. $W$: 일반적인 weight 행렬\n",
        "\n",
        "$W$ 행렬의 차원($\\text{nb of hidden dimensions, nb of nodes}$)은 임의로 (4,hidden dimension)로 정의되지만 이번 구현에서는 (4,2)로 임의 값을 hiddne vextor의 차원을 정의한다.\n",
        "\n",
        "$W_{att}$의 차원은 (1, hidden vector의 차원 x 2) 로 정의된다. 따라서, hidden vector(2) x 2로 (1,4)의 차원을 갖는다."
      ],
      "metadata": {
        "id": "D2Ii5sreSRKS"
      }
    },
    {
      "cell_type": "code",
      "source": [
        "W = np.random.uniform(-1,1,(2,4))\n",
        "W_att = np.random.uniform(-1,1,(1,4))\n",
        "\n",
        "print(\"가중치 행렬: \\n\",W)\n",
        "print(\"W_att 행렬: \\n\",W_att)"
      ],
      "metadata": {
        "colab": {
          "base_uri": "https://localhost:8080/"
        },
        "id": "qXB2GQtuQQXu",
        "outputId": "a1194c5b-f795-47ad-b32f-b963f66424d6"
      },
      "execution_count": 70,
      "outputs": [
        {
          "output_type": "stream",
          "name": "stdout",
          "text": [
            "가중치 행렬: \n",
            " [[ 0.78409311  0.26227725  0.58962261  0.00527419]\n",
            " [ 0.15380777 -0.01496461 -0.60951402  0.44490423]]\n",
            "W_att 행렬: \n",
            " [[-0.43845528 -0.95136807  0.29094459 -0.64577864]]\n"
          ]
        }
      ]
    },
    {
      "cell_type": "markdown",
      "source": [
        "가중치 행렬 정의 후에는 hidden vector들을 concat하여 source 노드와 target 노드 형태로 구성한다.\n",
        "\n",
        "- 행: source node\n",
        "- 열: target node"
      ],
      "metadata": {
        "id": "vvRaHeAsr3le"
      }
    },
    {
      "cell_type": "code",
      "source": [
        "connections = np.where(A > 0)\n",
        "connections"
      ],
      "metadata": {
        "colab": {
          "base_uri": "https://localhost:8080/"
        },
        "id": "FO4u1Wt1QZwb",
        "outputId": "ec3dc97f-6a6d-4a7a-e4dd-33283a5b7985"
      },
      "execution_count": 71,
      "outputs": [
        {
          "output_type": "execute_result",
          "data": {
            "text/plain": [
              "(array([0, 0, 0, 0, 1, 1, 2, 2, 2, 3, 3, 3]),\n",
              " array([0, 1, 2, 3, 0, 1, 0, 2, 3, 0, 2, 3]))"
            ]
          },
          "metadata": {},
          "execution_count": 71
        }
      ]
    },
    {
      "cell_type": "code",
      "source": [
        "# hidden vector concatenate\n",
        "np.concatenate([(X @ W.T)[connections[0]], (X @ W.T)[connections[1]]], axis = 1)"
      ],
      "metadata": {
        "colab": {
          "base_uri": "https://localhost:8080/"
        },
        "id": "LTu6s15AXsXC",
        "outputId": "17fff822-2bec-4e40-b602-eb52cbeb13fd"
      },
      "execution_count": 72,
      "outputs": [
        {
          "output_type": "execute_result",
          "data": {
            "text/plain": [
              "array([[ 0.31429819, -0.24710291,  0.31429819, -0.24710291],\n",
              "       [ 0.31429819, -0.24710291, -1.23714168,  0.76901691],\n",
              "       [ 0.31429819, -0.24710291, -0.29267908,  1.02742781],\n",
              "       [ 0.31429819, -0.24710291, -0.0081078 ,  0.21702893],\n",
              "       [-1.23714168,  0.76901691,  0.31429819, -0.24710291],\n",
              "       [-1.23714168,  0.76901691, -1.23714168,  0.76901691],\n",
              "       [-0.29267908,  1.02742781,  0.31429819, -0.24710291],\n",
              "       [-0.29267908,  1.02742781, -0.29267908,  1.02742781],\n",
              "       [-0.29267908,  1.02742781, -0.0081078 ,  0.21702893],\n",
              "       [-0.0081078 ,  0.21702893,  0.31429819, -0.24710291],\n",
              "       [-0.0081078 ,  0.21702893, -0.29267908,  1.02742781],\n",
              "       [-0.0081078 ,  0.21702893, -0.0081078 ,  0.21702893]])"
            ]
          },
          "metadata": {},
          "execution_count": 72
        }
      ]
    },
    {
      "cell_type": "code",
      "source": [
        "# Linear Trnasformation\n",
        "# attention weight matrix @ hidden vector with concatenate\n",
        "a = W_att @ np.concatenate([(X @ W.T)[connections[0]], (X @ W.T)[connections[1]]], axis = 1).T\n",
        "a"
      ],
      "metadata": {
        "colab": {
          "base_uri": "https://localhost:8080/"
        },
        "id": "N6htpdzaX2nw",
        "outputId": "bdfe29b4-9ac7-4e45-acf5-17c20d3dd579"
      },
      "execution_count": 73,
      "outputs": [
        {
          "output_type": "execute_result",
          "data": {
            "text/plain": [
              "array([[ 0.34829725, -0.75927426, -0.65136422, -0.04523146,  0.0618303 ,\n",
              "        -1.04574121, -0.59811818, -1.59777965, -0.99164689,  0.04809765,\n",
              "        -0.95156382, -0.34543106]])"
            ]
          },
          "metadata": {},
          "execution_count": 73
        }
      ]
    },
    {
      "cell_type": "markdown",
      "source": [
        "### Activation Function\n",
        "\n"
      ],
      "metadata": {
        "id": "ukJsBHzdmI_S"
      }
    },
    {
      "cell_type": "code",
      "source": [
        "x = np.linspace(-1,1,100)\n",
        "plt.title(\"ReLU\")\n",
        "plt.plot(x, np.maximum(x, np.zeros(100)))\n",
        "plt.axvline(x=0, ls = '--', color='black')\n",
        "plt.axhline(y=0, ls = '--', color='black')\n",
        "plt.show()"
      ],
      "metadata": {
        "colab": {
          "base_uri": "https://localhost:8080/",
          "height": 452
        },
        "id": "IG1B6KHci_LW",
        "outputId": "98c993f0-c496-4927-80ad-8aae74759a70"
      },
      "execution_count": 74,
      "outputs": [
        {
          "output_type": "display_data",
          "data": {
            "text/plain": [
              "<Figure size 640x480 with 1 Axes>"
            ],
            "image/png": "[encoded data removed]"
          },
          "metadata": {}
        }
      ]
    },
    {
      "cell_type": "code",
      "source": [
        "import matplotlib.pyplot as plt\n",
        "\n",
        "x = np.linspace(-1,1,100)\n",
        "y = 0.2*x\n",
        "plt.title(\"Leaky ReLU\")\n",
        "plt.plot(x, np.maximum(0.2*x, x))\n",
        "plt.axvline(x=0, ls = '--', color='black')\n",
        "plt.axhline(y=0, ls = '--', color='black')\n",
        "plt.show()"
      ],
      "metadata": {
        "colab": {
          "base_uri": "https://localhost:8080/",
          "height": 452
        },
        "id": "qLjuKISrcZHL",
        "outputId": "1975afe9-7fca-4502-eb34-bc1a402b71d9"
      },
      "execution_count": 75,
      "outputs": [
        {
          "output_type": "display_data",
          "data": {
            "text/plain": [
              "<Figure size 640x480 with 1 Axes>"
            ],
            "image/png": "[encoded data removed]"
          },
          "metadata": {}
        }
      ]
    },
    {
      "cell_type": "code",
      "source": [
        "def leaky_relu(x, alpha):\n",
        "  return np.maximum(alpha*x, x)\n",
        "\n",
        "e = leaky_relu(a, 0.2)\n",
        "e"
      ],
      "metadata": {
        "colab": {
          "base_uri": "https://localhost:8080/"
        },
        "id": "DMB0gV-qZw2D",
        "outputId": "859da85d-d51a-4c33-f611-4f14277afd48"
      },
      "execution_count": 76,
      "outputs": [
        {
          "output_type": "execute_result",
          "data": {
            "text/plain": [
              "array([[ 0.34829725, -0.15185485, -0.13027284, -0.00904629,  0.0618303 ,\n",
              "        -0.20914824, -0.11962364, -0.31955593, -0.19832938,  0.04809765,\n",
              "        -0.19031276, -0.06908621]])"
            ]
          },
          "metadata": {},
          "execution_count": 76
        }
      ]
    },
    {
      "cell_type": "code",
      "source": [
        "E = np.zeros(A.shape)\n",
        "E[connections[0], connections[1]] = e[0] # 인덱싱 E[source node, target node]\n",
        "E # self-loop를 포함한 인접행렬과 동일한 형태를 띄도록 한다."
      ],
      "metadata": {
        "colab": {
          "base_uri": "https://localhost:8080/"
        },
        "id": "mwqo_K-iendk",
        "outputId": "f5d04699-1ccd-45b7-ef6d-acf735d66b13"
      },
      "execution_count": 77,
      "outputs": [
        {
          "output_type": "execute_result",
          "data": {
            "text/plain": [
              "array([[ 0.34829725, -0.15185485, -0.13027284, -0.00904629],\n",
              "       [ 0.0618303 , -0.20914824,  0.        ,  0.        ],\n",
              "       [-0.11962364,  0.        , -0.31955593, -0.19832938],\n",
              "       [ 0.04809765,  0.        , -0.19031276, -0.06908621]])"
            ]
          },
          "metadata": {},
          "execution_count": 77
        }
      ]
    },
    {
      "cell_type": "markdown",
      "source": [
        "### Softmax normalization"
      ],
      "metadata": {
        "id": "p3cVsKCQmQyL"
      }
    },
    {
      "cell_type": "code",
      "source": [
        "# attention score 정규활를 위한 softmax 함수 활용\n",
        "def softmax2D(x, axis):\n",
        "  e = np.exp(x - np.max(x, axis=axis, keepdims=True))\n",
        "  s = np.sum(e, axis=axis, keepdims=True)\n",
        "  return e / s\n",
        "\n",
        "W_alpha = softmax2D(E,1)\n",
        "W_alpha"
      ],
      "metadata": {
        "colab": {
          "base_uri": "https://localhost:8080/"
        },
        "id": "45ivRaFVezIc",
        "outputId": "a0fa1859-84f2-4f83-b5e6-541f3ddd36b5"
      },
      "execution_count": 50,
      "outputs": [
        {
          "output_type": "execute_result",
          "data": {
            "text/plain": [
              "array([[0.26139114, 0.20296726, 0.32394076, 0.21170085],\n",
              "       [0.34970573, 0.27154254, 0.18937587, 0.18937587],\n",
              "       [0.29540969, 0.09923804, 0.36609978, 0.23925249],\n",
              "       [0.24003878, 0.23569378, 0.29747888, 0.22678855]])"
            ]
          },
          "metadata": {},
          "execution_count": 50
        }
      ]
    },
    {
      "cell_type": "markdown",
      "source": [
        "\n",
        "### Graph Attention Layer\n",
        "$$\n",
        "H = \\tilde{A^T}W_a X W^T\n",
        "$$"
      ],
      "metadata": {
        "id": "bBemOge6xcFp"
      }
    },
    {
      "cell_type": "code",
      "source": [
        "H = A.T @ W_alpha @ X @ W.T\n",
        "H"
      ],
      "metadata": {
        "colab": {
          "base_uri": "https://localhost:8080/"
        },
        "id": "vrQ1tRLuez_X",
        "outputId": "768d8cf1-eee4-4315-ac81-6e48d03fbc15"
      },
      "execution_count": 51,
      "outputs": [
        {
          "output_type": "execute_result",
          "data": {
            "text/plain": [
              "array([[-1.21585747,  2.880156  ],\n",
              "       [-0.53288248,  1.47336126],\n",
              "       [-1.00094156,  2.17716021],\n",
              "       [-1.00094156,  2.17716021]])"
            ]
          },
          "metadata": {},
          "execution_count": 51
        }
      ]
    },
    {
      "cell_type": "code",
      "source": [],
      "metadata": {
        "id": "lsd6KQUEcmUV"
      },
      "execution_count": null,
      "outputs": []
    }
  ]
}