{
  "nbformat": 4,
  "nbformat_minor": 0,
  "metadata": {
    "colab": {
      "provenance": [],
      "authorship_tag": "ABX9TyNuFsNrraVhR2ZXGGHF0E7G",
      "include_colab_link": true
    },
    "kernelspec": {
      "name": "python3",
      "display_name": "Python 3"
    },
    "language_info": {
      "name": "python"
    }
  },
  "cells": [
    {
      "cell_type": "markdown",
      "metadata": {
        "id": "view-in-github",
        "colab_type": "text"
      },
      "source": [
        "<a href=\"https://colab.research.google.com/github/moosunny/Graph-Neural-Networks-Practice/blob/main/Chapter%206.%20%20Intoroducing%20Graph%20Convolution%20Networks.ipynb\" target=\"_parent\"><img src=\"https://colab.research.google.com/assets/colab-badge.svg\" alt=\"Open In Colab\"/></a>"
      ]
    },
    {
      "cell_type": "markdown",
      "source": [
        "## Chapter 6. Intoroducing Graph Convolution Networks\n",
        "\n",
        "이번 챕터에서는 그래프 컨볼루션 네트워크를 소개한고 이전 챕터에서 소개된 Vanilla GNN 의 한게점에 대해 이야기한다.\n",
        "\n",
        "또한, 이전에는 다루지 않았던 Node Regression 문제에 GNN을 적용하여 정형 데이터에도 GNN이 유용함을 확인한다."
      ],
      "metadata": {
        "id": "TUmbV43t9UTr"
      }
    },
    {
      "cell_type": "markdown",
      "source": [
        "그래프 구조는 Tabular와 이미지 데이터와 다르게 개별 노드가 보유한 이웃 노드의 개수는 노드 마다 상이하다.\n",
        "\n",
        "$$ h_i = \\sum_{j \\in N_i} x_j W^T $$\n",
        "\n",
        "상기 수식의 경우 개별 노드에 대한 이웃 노드 개수의 차이를 고려하지 않는다. 만약에 1번 노드가 보유한 이웃 노드의 수가 1000개, 2번 노드가 1개 보유하고 있다고 가정했을 때, 임베딩 된 $h_A$와 $h_B$를 효과적으로 비교하기 위한 방법이 필요하다.\n",
        "\n",
        "따라서, 하기 수식과 같이 임베딩 이웃 노드의 개수에 따라 개별 임베딩 값을 나누어 주면 된다.\n",
        "\n",
        "$$ h_i = \\frac{1}{deg_{(i)}} \\sum_{j \\in N_i} x_j W^T $$\n",
        "\n",
        "이를 통해, 이웃 노드 수를 반영한 차수 행렬을 생성하여 정규화 계수를 추가해주면 된다."
      ],
      "metadata": {
        "id": "smPsMYl-_h_9"
      }
    },
    {
      "cell_type": "code",
      "execution_count": 1,
      "metadata": {
        "colab": {
          "base_uri": "https://localhost:8080/"
        },
        "id": "cn_PgPZ15Wwq",
        "outputId": "eeacc322-784e-4a3f-af9f-3879611dfbc8"
      },
      "outputs": [
        {
          "output_type": "stream",
          "name": "stdout",
          "text": [
            "[[0.33333333 0.         0.         0.        ]\n",
            " [0.         1.         0.         0.        ]\n",
            " [0.         0.         0.5        0.        ]\n",
            " [0.         0.         0.         0.5       ]]\n",
            "\n",
            "[[0.25       0.         0.         0.        ]\n",
            " [0.         0.5        0.         0.        ]\n",
            " [0.         0.         0.33333333 0.        ]\n",
            " [0.         0.         0.         0.33333333]]\n"
          ]
        }
      ],
      "source": [
        "import numpy as np\n",
        "\n",
        "D = np.array([\n",
        "    [3, 0, 0, 0],\n",
        "    [0, 1, 0, 0],\n",
        "    [0, 0, 2, 0],\n",
        "    [0, 0, 0, 2]\n",
        "])\n",
        "\n",
        "print(np.linalg.inv(D), end = \"\\n\\n\") # D 행렬의 역행렬\n",
        "\n",
        "# 차수 행렬을 구하기 위한 D^-1, self loop를 반영하기 위해 항등행렬을 더해줌\n",
        "D_inv = np.linalg.inv(D + np.identity(4))\n",
        "\n",
        "print(D_inv)"
      ]
    },
    {
      "cell_type": "markdown",
      "source": [
        "노드의 feature 정보를 담은 input 행렬 A와 차수 행렬 D를 앞 혹은 뒤에 곱해주는지에 따라 두가지 효과가 있다.\n",
        "\n",
        "1. $ \\tilde{D}^{-1} \\tilde{A} X W^T $: 모든 열에 대한 정규화\n",
        "2. $  \\tilde{A}\\tilde{D}^{-1} X W^T $: 모든 행에 대한 정규화"
      ],
      "metadata": {
        "id": "edr8Bx73P5hr"
      }
    },
    {
      "cell_type": "code",
      "source": [
        "# 모든 열에 대한 정규화\n",
        "A = np.array([\n",
        "    [1, 1, 1, 1],\n",
        "    [1, 1, 0, 0],\n",
        "    [1, 0, 1, 1],\n",
        "    [1, 0, 1, 1]\n",
        "])\n",
        "\n",
        "print(np.linalg.inv(D + np.identity(4)) @ A)"
      ],
      "metadata": {
        "colab": {
          "base_uri": "https://localhost:8080/"
        },
        "id": "fJ4f088eFISi",
        "outputId": "1b51d999-9f4d-404c-dcc7-5de3ff3db080"
      },
      "execution_count": 2,
      "outputs": [
        {
          "output_type": "stream",
          "name": "stdout",
          "text": [
            "[[0.25       0.25       0.25       0.25      ]\n",
            " [0.5        0.5        0.         0.        ]\n",
            " [0.33333333 0.         0.33333333 0.33333333]\n",
            " [0.33333333 0.         0.33333333 0.33333333]]\n"
          ]
        }
      ]
    },
    {
      "cell_type": "code",
      "source": [
        "# 모든 행에 대한 정규화\n",
        "A = np.array([\n",
        "    [1, 1, 1, 1],\n",
        "    [1, 1, 0, 0],\n",
        "    [1, 0, 1, 1],\n",
        "    [1, 0, 1, 1]\n",
        "])\n",
        "\n",
        "print(A @ np.linalg.inv(D + np.identity(4)))"
      ],
      "metadata": {
        "colab": {
          "base_uri": "https://localhost:8080/"
        },
        "id": "JiJsYzygHpfb",
        "outputId": "a418c1d2-a4b0-4654-94a4-7b6cb860900a"
      },
      "execution_count": 3,
      "outputs": [
        {
          "output_type": "stream",
          "name": "stdout",
          "text": [
            "[[0.25       0.5        0.33333333 0.33333333]\n",
            " [0.25       0.5        0.         0.        ]\n",
            " [0.25       0.         0.33333333 0.33333333]\n",
            " [0.25       0.         0.33333333 0.33333333]]\n"
          ]
        }
      ]
    },
    {
      "cell_type": "markdown",
      "source": [
        "실제로 두가지 방법을 모두 코드를 통해 확인 했을 때, 열을 정규화한 경우의 각 열의 합은 1이고 행을 정규화한 경우는 각 행의 합이 1인 것을 확인할 수 있다.\n",
        "\n",
        "GCN의 저자들은 이 두가지 정규화 방식을 혼용한 hybrid 방식의 정규화 방법을 제안했다. 이웃이 많은 노드의 특징이 고립된 노드의 특징과 달리 매우 쉽게 퍼진다는 것을 발견했고, 이를 해결하기 위해 이웃 노드가 적은 노드의 가중치가 더 높도록 유도하는 정규화 식을 개발했다.\n",
        "\n",
        "$$H =  \\tilde{D}^{-\\frac{1}{2}} \\tilde{A^T} \\tilde{D}^{-\\frac{1}{2}}W^T $$\n",
        "\n",
        "개별 임베딩 측면에서 이 수식은 다음과 같다.\n",
        "\n",
        "$$ h_i = \\sum_{j \\in N_i}\\frac{1}{\\sqrt{\\deg(i)} \\sqrt{\\deg(j)}} x_j W^T $$\n",
        "\n",
        "이웃이 많은 노드의 특징이 잘 퍼진다(spread)라는 표현이 있는데, 이는 정규화가 잘 되지 않거나 없을 경우 이웃이 없는 노드에 비해 이웃 노드로 부터 많은 영향을 받고 정규화 과정에서 갖고 있는 특징값의 평균화(퍼진다.)가 많이 될 가능성이 높다.\n",
        "\n"
      ],
      "metadata": {
        "id": "HJHPYZBkRusP"
      }
    },
    {
      "cell_type": "markdown",
      "source": [
        "### Comparing graph convolution and graph linear layers\n",
        "\n",
        "이번 챕터에서는 이전 챕터에서 활용한 Cora, Facebook page 데이터에서의 성능 평가를 진행한다.\n",
        "\n",
        "Vanilla GNN과 다르게 GCN의 메인 특징은 노드 차수를 고려하여 feature에 가중치를 부여한다는 것이다. 본격적인 GCN 구현 전에 노드의 차수를 두개 데이터 셋을 대상으로 분석한다.\n",
        "\n",
        "GCN 레이어는 노드 별로 차수값(해당 노드가 보유한 이웃 노드의 수) 차이가 클 경우에 성능이 좋을 것으로 예상할 수 있다. 만약 모든 노드의 차수가 동일한 경우에는 $(\\sqrt{deg(i)} \\sqrt{deg(i)}) = deg(i)$ 로 수식화할 수 있다."
      ],
      "metadata": {
        "id": "xqDD7BcYYSuU"
      }
    },
    {
      "cell_type": "code",
      "source": [
        "!pip install torch_geometric"
      ],
      "metadata": {
        "colab": {
          "base_uri": "https://localhost:8080/"
        },
        "id": "L0QjCLpBcaYS",
        "outputId": "e14546d4-59c3-4dda-c3f6-4a43c66a0f92"
      },
      "execution_count": 4,
      "outputs": [
        {
          "output_type": "stream",
          "name": "stdout",
          "text": [
            "Collecting torch_geometric\n",
            "  Downloading torch_geometric-2.6.1-py3-none-any.whl.metadata (63 kB)\n",
            "\u001b[?25l     \u001b[90m━━━━━━━━━━━━━━━━━━━━━━━━━━━━━━━━━━━━━━━━\u001b[0m \u001b[32m0.0/63.1 kB\u001b[0m \u001b[31m?\u001b[0m eta \u001b[36m-:--:--\u001b[0m\r\u001b[2K     \u001b[90m━━━━━━━━━━━━━━━━━━━━━━━━━━━━━━━━━━━━━━━━\u001b[0m \u001b[32m63.1/63.1 kB\u001b[0m \u001b[31m2.1 MB/s\u001b[0m eta \u001b[36m0:00:00\u001b[0m\n",
            "\u001b[?25hRequirement already satisfied: aiohttp in /usr/local/lib/python3.11/dist-packages (from torch_geometric) (3.11.12)\n",
            "Requirement already satisfied: fsspec in /usr/local/lib/python3.11/dist-packages (from torch_geometric) (2024.10.0)\n",
            "Requirement already satisfied: jinja2 in /usr/local/lib/python3.11/dist-packages (from torch_geometric) (3.1.5)\n",
            "Requirement already satisfied: numpy in /usr/local/lib/python3.11/dist-packages (from torch_geometric) (1.26.4)\n",
            "Requirement already satisfied: psutil>=5.8.0 in /usr/local/lib/python3.11/dist-packages (from torch_geometric) (5.9.5)\n",
            "Requirement already satisfied: pyparsing in /usr/local/lib/python3.11/dist-packages (from torch_geometric) (3.2.1)\n",
            "Requirement already satisfied: requests in /usr/local/lib/python3.11/dist-packages (from torch_geometric) (2.32.3)\n",
            "Requirement already satisfied: tqdm in /usr/local/lib/python3.11/dist-packages (from torch_geometric) (4.67.1)\n",
            "Requirement already satisfied: aiohappyeyeballs>=2.3.0 in /usr/local/lib/python3.11/dist-packages (from aiohttp->torch_geometric) (2.4.4)\n",
            "Requirement already satisfied: aiosignal>=1.1.2 in /usr/local/lib/python3.11/dist-packages (from aiohttp->torch_geometric) (1.3.2)\n",
            "Requirement already satisfied: attrs>=17.3.0 in /usr/local/lib/python3.11/dist-packages (from aiohttp->torch_geometric) (25.1.0)\n",
            "Requirement already satisfied: frozenlist>=1.1.1 in /usr/local/lib/python3.11/dist-packages (from aiohttp->torch_geometric) (1.5.0)\n",
            "Requirement already satisfied: multidict<7.0,>=4.5 in /usr/local/lib/python3.11/dist-packages (from aiohttp->torch_geometric) (6.1.0)\n",
            "Requirement already satisfied: propcache>=0.2.0 in /usr/local/lib/python3.11/dist-packages (from aiohttp->torch_geometric) (0.2.1)\n",
            "Requirement already satisfied: yarl<2.0,>=1.17.0 in /usr/local/lib/python3.11/dist-packages (from aiohttp->torch_geometric) (1.18.3)\n",
            "Requirement already satisfied: MarkupSafe>=2.0 in /usr/local/lib/python3.11/dist-packages (from jinja2->torch_geometric) (3.0.2)\n",
            "Requirement already satisfied: charset-normalizer<4,>=2 in /usr/local/lib/python3.11/dist-packages (from requests->torch_geometric) (3.4.1)\n",
            "Requirement already satisfied: idna<4,>=2.5 in /usr/local/lib/python3.11/dist-packages (from requests->torch_geometric) (3.10)\n",
            "Requirement already satisfied: urllib3<3,>=1.21.1 in /usr/local/lib/python3.11/dist-packages (from requests->torch_geometric) (2.3.0)\n",
            "Requirement already satisfied: certifi>=2017.4.17 in /usr/local/lib/python3.11/dist-packages (from requests->torch_geometric) (2025.1.31)\n",
            "Downloading torch_geometric-2.6.1-py3-none-any.whl (1.1 MB)\n",
            "\u001b[2K   \u001b[90m━━━━━━━━━━━━━━━━━━━━━━━━━━━━━━━━━━━━━━━━\u001b[0m \u001b[32m1.1/1.1 MB\u001b[0m \u001b[31m21.4 MB/s\u001b[0m eta \u001b[36m0:00:00\u001b[0m\n",
            "\u001b[?25hInstalling collected packages: torch_geometric\n",
            "Successfully installed torch_geometric-2.6.1\n"
          ]
        }
      ]
    },
    {
      "cell_type": "code",
      "source": [
        "pip install pyg_lib torch_scatter torch_sparse torch_cluster torch_spline_conv -f https://data.pyg.org/whl/torch-2.5.0+cu124.html"
      ],
      "metadata": {
        "colab": {
          "base_uri": "https://localhost:8080/"
        },
        "id": "dXqa4HAFckAo",
        "outputId": "60c06f4e-18dd-438c-dfb6-779ae16f3fb7"
      },
      "execution_count": 5,
      "outputs": [
        {
          "output_type": "stream",
          "name": "stdout",
          "text": [
            "Looking in links: https://data.pyg.org/whl/torch-2.5.0+cu124.html\n",
            "Collecting pyg_lib\n",
            "  Downloading https://data.pyg.org/whl/torch-2.5.0%2Bcu124/pyg_lib-0.4.0%2Bpt25cu124-cp311-cp311-linux_x86_64.whl (2.5 MB)\n",
            "\u001b[2K     \u001b[90m━━━━━━━━━━━━━━━━━━━━━━━━━━━━━━━━━━━━━━━━\u001b[0m \u001b[32m2.5/2.5 MB\u001b[0m \u001b[31m6.8 MB/s\u001b[0m eta \u001b[36m0:00:00\u001b[0m\n",
            "\u001b[?25hCollecting torch_scatter\n",
            "  Downloading https://data.pyg.org/whl/torch-2.5.0%2Bcu124/torch_scatter-2.1.2%2Bpt25cu124-cp311-cp311-linux_x86_64.whl (10.8 MB)\n",
            "\u001b[2K     \u001b[90m━━━━━━━━━━━━━━━━━━━━━━━━━━━━━━━━━━━━━━━━\u001b[0m \u001b[32m10.8/10.8 MB\u001b[0m \u001b[31m22.0 MB/s\u001b[0m eta \u001b[36m0:00:00\u001b[0m\n",
            "\u001b[?25hCollecting torch_sparse\n",
            "  Downloading https://data.pyg.org/whl/torch-2.5.0%2Bcu124/torch_sparse-0.6.18%2Bpt25cu124-cp311-cp311-linux_x86_64.whl (5.2 MB)\n",
            "\u001b[2K     \u001b[90m━━━━━━━━━━━━━━━━━━━━━━━━━━━━━━━━━━━━━━━━\u001b[0m \u001b[32m5.2/5.2 MB\u001b[0m \u001b[31m23.1 MB/s\u001b[0m eta \u001b[36m0:00:00\u001b[0m\n",
            "\u001b[?25hCollecting torch_cluster\n",
            "  Downloading https://data.pyg.org/whl/torch-2.5.0%2Bcu124/torch_cluster-1.6.3%2Bpt25cu124-cp311-cp311-linux_x86_64.whl (3.4 MB)\n",
            "\u001b[2K     \u001b[90m━━━━━━━━━━━━━━━━━━━━━━━━━━━━━━━━━━━━━━━━\u001b[0m \u001b[32m3.4/3.4 MB\u001b[0m \u001b[31m20.8 MB/s\u001b[0m eta \u001b[36m0:00:00\u001b[0m\n",
            "\u001b[?25hCollecting torch_spline_conv\n",
            "  Downloading https://data.pyg.org/whl/torch-2.5.0%2Bcu124/torch_spline_conv-1.2.2%2Bpt25cu124-cp311-cp311-linux_x86_64.whl (1.0 MB)\n",
            "\u001b[2K     \u001b[90m━━━━━━━━━━━━━━━━━━━━━━━━━━━━━━━━━━━━━━━━\u001b[0m \u001b[32m1.0/1.0 MB\u001b[0m \u001b[31m33.4 MB/s\u001b[0m eta \u001b[36m0:00:00\u001b[0m\n",
            "\u001b[?25hRequirement already satisfied: scipy in /usr/local/lib/python3.11/dist-packages (from torch_sparse) (1.13.1)\n",
            "Requirement already satisfied: numpy<2.3,>=1.22.4 in /usr/local/lib/python3.11/dist-packages (from scipy->torch_sparse) (1.26.4)\n",
            "Installing collected packages: torch_spline_conv, torch_scatter, pyg_lib, torch_sparse, torch_cluster\n",
            "Successfully installed pyg_lib-0.4.0+pt25cu124 torch_cluster-1.6.3+pt25cu124 torch_scatter-2.1.2+pt25cu124 torch_sparse-0.6.18+pt25cu124 torch_spline_conv-1.2.2+pt25cu124\n"
          ]
        }
      ]
    },
    {
      "cell_type": "markdown",
      "source": [
        "## Implementing GCN"
      ],
      "metadata": {
        "id": "9KJxzVAdtjme"
      }
    },
    {
      "cell_type": "code",
      "source": [
        "import torch\n",
        "import torch.nn.functional as F\n",
        "from torch_geometric.nn import GCNConv"
      ],
      "metadata": {
        "id": "KXsVnzugs-7L"
      },
      "execution_count": 68,
      "outputs": []
    },
    {
      "cell_type": "code",
      "source": [
        "from torch_geometric.datasets import Planetoid\n",
        "from torch_geometric.utils import degree\n",
        "from collections import Counter\n",
        "import matplotlib.pyplot as plt"
      ],
      "metadata": {
        "id": "0H59sK64TTLt"
      },
      "execution_count": 69,
      "outputs": []
    },
    {
      "cell_type": "code",
      "source": [
        "# Metric 정의\n",
        "def accuracy(pred_y, y):\n",
        "  return ((pred_y == y).sum()/len(y)).item()"
      ],
      "metadata": {
        "id": "3tdtLsktt-76"
      },
      "execution_count": 70,
      "outputs": []
    },
    {
      "cell_type": "code",
      "source": [
        "class GCN(torch.nn.Module):\n",
        "  def __init__(self, dim_in, dim_h, dim_out):\n",
        "    super().__init__()\n",
        "    self.gcn1 = GCNConv(dim_in, dim_h)\n",
        "    self.gcn2 = GCNConv(dim_h, dim_out)\n",
        "\n",
        "  def forward(self, x, edge_index):\n",
        "    h = self.gcn1(x, edge_index)\n",
        "    h = torch.relu(h)\n",
        "    h = self.gcn2(h, edge_index)\n",
        "\n",
        "    return F.log_softmax(h, dim = 1)\n",
        "\n",
        "  def fit(self, data, epochs):\n",
        "    criterion = torch.nn.CrossEntropyLoss()\n",
        "    optimizer = torch.optim.Adam(self.parameters(), lr = 0.01, weight_decay = 5e-4)\n",
        "\n",
        "    self.train()\n",
        "    for epoch in range(epochs+1):\n",
        "      optimizer.zero_grad()\n",
        "      out = self(data.x, data.edge_index)\n",
        "      loss = criterion(out[data.train_mask], data.y[data.train_mask])\n",
        "      acc = accuracy(out[data.train_mask].argmax(dim = 1), data.y[data.train_mask])\n",
        "      loss.backward()\n",
        "      optimizer.step()\n",
        "\n",
        "      if epoch % 20 == 0:\n",
        "        val_loss = criterion(out[data.val_mask], data.y[data.val_mask])\n",
        "        val_acc = accuracy(out[data.val_mask].argmax(dim = 1), data.y[data.val_mask])\n",
        "        print(f'Epoch {epoch} | Train Loss: {loss:.4f} | Train Acc: {acc:4f} | Val Loss: {val_loss:.4f} | Val Acc: {val_acc:.4f}')\n",
        "\n",
        "  @torch.no_grad()\n",
        "  def test(self, data):\n",
        "    self.eval()\n",
        "    out = self(data.x, data.edge_index)\n",
        "    acc = accuracy(out[data.test_mask].argmax(dim = 1), data.y[data.test_mask])\n",
        "\n",
        "    return acc"
      ],
      "metadata": {
        "id": "sxwaNZs5uPvV"
      },
      "execution_count": 71,
      "outputs": []
    },
    {
      "cell_type": "code",
      "source": [
        "dataset = Planetoid(root = '.', name = 'Cora')\n",
        "data = dataset[0]\n",
        "data"
      ],
      "metadata": {
        "colab": {
          "base_uri": "https://localhost:8080/"
        },
        "id": "zTal_sRfcWrv",
        "outputId": "62136242-eacf-49ec-c9b1-df4b2f0c0f0a"
      },
      "execution_count": 72,
      "outputs": [
        {
          "output_type": "execute_result",
          "data": {
            "text/plain": [
              "Data(x=[2708, 1433], edge_index=[2, 10556], y=[2708], train_mask=[2708], val_mask=[2708], test_mask=[2708])"
            ]
          },
          "metadata": {},
          "execution_count": 72
        }
      ]
    },
    {
      "cell_type": "code",
      "source": [
        "# 각 노드가 보유한 이웃 노드의 개수를 출력하기 위함\n",
        "degrees = degree(data.edge_index[0]).numpy()\n",
        "degrees"
      ],
      "metadata": {
        "colab": {
          "base_uri": "https://localhost:8080/"
        },
        "id": "E-yUp62Yc-a6",
        "outputId": "a76fb016-7db0-41bc-dda0-e37663bca5be"
      },
      "execution_count": 73,
      "outputs": [
        {
          "output_type": "execute_result",
          "data": {
            "text/plain": [
              "array([3., 3., 5., ..., 1., 4., 4.], dtype=float32)"
            ]
          },
          "metadata": {},
          "execution_count": 73
        }
      ]
    },
    {
      "cell_type": "markdown",
      "source": [
        "하기, 분포를 통해 노드별로 보유한 이웃 노드의 개수가 불균형 함을 확인할 수 있다."
      ],
      "metadata": {
        "id": "qkho9LjGsgWf"
      }
    },
    {
      "cell_type": "code",
      "source": [
        "def plot_degrees(data):\n",
        "  degrees = degree(data.edge_index[0]).numpy()\n",
        "\n",
        "  numbers = Counter(degrees) # key = 이웃 노드 개수, value = 빈도\n",
        "\n",
        "  fig, ax = plt.subplots()\n",
        "  ax.set_xlabel('Node degrees')\n",
        "  ax.set_ylabel('Number of nodes')\n",
        "  plt.bar(numbers.keys(), numbers.values())"
      ],
      "metadata": {
        "id": "GltY5gE6LIv0"
      },
      "execution_count": 74,
      "outputs": []
    },
    {
      "cell_type": "code",
      "source": [
        "numbers = Counter(degrees) # key = 이웃 노드 개수, value = 빈도\n",
        "\n",
        "fig, ax = plt.subplots()\n",
        "ax.set_xlabel('Node degrees')\n",
        "ax.set_ylabel('Number of nodes')\n",
        "plt.bar(numbers.keys(), numbers.values())"
      ],
      "metadata": {
        "colab": {
          "base_uri": "https://localhost:8080/",
          "height": 467
        },
        "id": "u3E2rY36dG3d",
        "outputId": "a8f1231f-b78f-488c-86f9-6b4081b619e1"
      },
      "execution_count": 75,
      "outputs": [
        {
          "output_type": "execute_result",
          "data": {
            "text/plain": [
              "<BarContainer object of 37 artists>"
            ]
          },
          "metadata": {},
          "execution_count": 75
        },
        {
          "output_type": "display_data",
          "data": {
            "text/plain": [
              "<Figure size 640x480 with 1 Axes>"
            ],
            "image/png": "[encoded data removed]"
          },
          "metadata": {}
        }
      ]
    },
    {
      "cell_type": "code",
      "source": [
        "gcn = GCN(dataset.num_features, 16, dataset.num_classes)\n",
        "print(gcn)\n",
        "gcn.fit(data, epochs = 200)\n",
        "\n",
        "acc = gcn.test(data)\n",
        "print(f'Test Accuracy: {acc*100:.2f}%')"
      ],
      "metadata": {
        "id": "7UKmiJFq6sr0",
        "outputId": "b02a143c-8499-4449-d87b-584a3d5ce0a5",
        "colab": {
          "base_uri": "https://localhost:8080/"
        }
      },
      "execution_count": 76,
      "outputs": [
        {
          "output_type": "stream",
          "name": "stdout",
          "text": [
            "GCN(\n",
            "  (gcn1): GCNConv(1433, 16)\n",
            "  (gcn2): GCNConv(16, 7)\n",
            ")\n",
            "Epoch 0 | Train Loss: 1.9596 | Train Acc: 0.100000 | Val Loss: 1.9510 | Val Acc: 0.1740\n",
            "Epoch 20 | Train Loss: 0.1084 | Train Acc: 1.000000 | Val Loss: 0.7955 | Val Acc: 0.7660\n",
            "Epoch 40 | Train Loss: 0.0148 | Train Acc: 1.000000 | Val Loss: 0.7558 | Val Acc: 0.7720\n",
            "Epoch 60 | Train Loss: 0.0148 | Train Acc: 1.000000 | Val Loss: 0.7482 | Val Acc: 0.7740\n",
            "Epoch 80 | Train Loss: 0.0174 | Train Acc: 1.000000 | Val Loss: 0.7359 | Val Acc: 0.7800\n",
            "Epoch 100 | Train Loss: 0.0162 | Train Acc: 1.000000 | Val Loss: 0.7315 | Val Acc: 0.7740\n",
            "Epoch 120 | Train Loss: 0.0144 | Train Acc: 1.000000 | Val Loss: 0.7287 | Val Acc: 0.7720\n",
            "Epoch 140 | Train Loss: 0.0131 | Train Acc: 1.000000 | Val Loss: 0.7266 | Val Acc: 0.7720\n",
            "Epoch 160 | Train Loss: 0.0121 | Train Acc: 1.000000 | Val Loss: 0.7259 | Val Acc: 0.7740\n",
            "Epoch 180 | Train Loss: 0.0113 | Train Acc: 1.000000 | Val Loss: 0.7253 | Val Acc: 0.7780\n",
            "Epoch 200 | Train Loss: 0.0106 | Train Acc: 1.000000 | Val Loss: 0.7248 | Val Acc: 0.7780\n",
            "Test Accuracy: 81.20%\n"
          ]
        }
      ]
    },
    {
      "cell_type": "code",
      "source": [
        "# Facebook page 데이터의 경우도 노드별로 보유한 이웃 노드의 개수가 불균형하다.\n",
        "from torch_geometric.datasets import FacebookPagePage\n",
        "dataset = FacebookPagePage(root = '.')\n",
        "data = dataset[0]\n",
        "\n",
        "degrees = degree(data.edge_index[0]).numpy()\n",
        "\n",
        "numbers = Counter(degrees) # key = 이웃 노드 개수, value = 빈도\n",
        "\n",
        "fig, ax = plt.subplots()\n",
        "ax.set_xlabel('Node degrees')\n",
        "ax.set_ylabel('Number of nodes')\n",
        "plt.bar(numbers.keys(), numbers.values())"
      ],
      "metadata": {
        "colab": {
          "base_uri": "https://localhost:8080/",
          "height": 467
        },
        "id": "LkupROM0dn9n",
        "outputId": "137fe9e8-3cf7-458c-c2cd-2e84ea77207f"
      },
      "execution_count": 77,
      "outputs": [
        {
          "output_type": "execute_result",
          "data": {
            "text/plain": [
              "<BarContainer object of 233 artists>"
            ]
          },
          "metadata": {},
          "execution_count": 77
        },
        {
          "output_type": "display_data",
          "data": {
            "text/plain": [
              "<Figure size 640x480 with 1 Axes>"
            ],
            "image/png": "[encoded data removed]"
          },
          "metadata": {}
        }
      ]
    },
    {
      "cell_type": "code",
      "source": [
        "dataset = FacebookPagePage(root = '.', transform= T.RandomNodeSplit(num_val=2000, num_test=1000)) # 그래프 데이터 구조에서 랜덤으로 노드를 나눠주는 메소드\n",
        "data = dataset[0]\n",
        "data"
      ],
      "metadata": {
        "id": "u9u-E3PX1yQz",
        "outputId": "4244baf9-c6f2-4860-a663-da8c76bfaa1e",
        "colab": {
          "base_uri": "https://localhost:8080/"
        }
      },
      "execution_count": 78,
      "outputs": [
        {
          "output_type": "execute_result",
          "data": {
            "text/plain": [
              "Data(x=[22470, 128], edge_index=[2, 342004], y=[22470], train_mask=[22470], val_mask=[22470], test_mask=[22470])"
            ]
          },
          "metadata": {},
          "execution_count": 78
        }
      ]
    },
    {
      "cell_type": "code",
      "source": [
        "gcn = GCN(dataset.num_features, 16, dataset.num_classes)\n",
        "print(gcn)\n",
        "gcn.fit(data, epochs = 200)"
      ],
      "metadata": {
        "colab": {
          "base_uri": "https://localhost:8080/"
        },
        "id": "pnYEdVmdB-cX",
        "outputId": "a733030d-8d02-4cd5-cfb0-ffe3b0481581"
      },
      "execution_count": 79,
      "outputs": [
        {
          "output_type": "stream",
          "name": "stdout",
          "text": [
            "GCN(\n",
            "  (gcn1): GCNConv(128, 16)\n",
            "  (gcn2): GCNConv(16, 4)\n",
            ")\n",
            "Epoch 0 | Train Loss: 1.5319 | Train Acc: 0.233025 | Val Loss: 1.5332 | Val Acc: 0.2320\n",
            "Epoch 20 | Train Loss: 0.4652 | Train Acc: 0.846430 | Val Loss: 0.4824 | Val Acc: 0.8365\n",
            "Epoch 40 | Train Loss: 0.3185 | Train Acc: 0.895480 | Val Loss: 0.3588 | Val Acc: 0.8825\n",
            "Epoch 60 | Train Loss: 0.2755 | Train Acc: 0.913251 | Val Loss: 0.3202 | Val Acc: 0.8945\n",
            "Epoch 80 | Train Loss: 0.2528 | Train Acc: 0.921983 | Val Loss: 0.3009 | Val Acc: 0.9050\n",
            "Epoch 100 | Train Loss: 0.2381 | Train Acc: 0.927324 | Val Loss: 0.2876 | Val Acc: 0.9090\n",
            "Epoch 120 | Train Loss: 0.2266 | Train Acc: 0.931895 | Val Loss: 0.2781 | Val Acc: 0.9170\n",
            "Epoch 140 | Train Loss: 0.2171 | Train Acc: 0.935182 | Val Loss: 0.2703 | Val Acc: 0.9190\n",
            "Epoch 160 | Train Loss: 0.2093 | Train Acc: 0.938572 | Val Loss: 0.2640 | Val Acc: 0.9220\n",
            "Epoch 180 | Train Loss: 0.2027 | Train Acc: 0.940986 | Val Loss: 0.2591 | Val Acc: 0.9210\n",
            "Epoch 200 | Train Loss: 0.1970 | Train Acc: 0.942219 | Val Loss: 0.2550 | Val Acc: 0.9225\n"
          ]
        }
      ]
    },
    {
      "cell_type": "code",
      "source": [
        "acc = gcn.test(data)\n",
        "print(f'Test Accuracy: {acc*100:.2f}%')"
      ],
      "metadata": {
        "colab": {
          "base_uri": "https://localhost:8080/"
        },
        "id": "fqsE98AiDSJw",
        "outputId": "2a9d0836-7a6a-4790-d08a-62309d4b48b0"
      },
      "execution_count": 80,
      "outputs": [
        {
          "output_type": "stream",
          "name": "stdout",
          "text": [
            "Test Accuracy: 93.50%\n"
          ]
        }
      ]
    },
    {
      "cell_type": "markdown",
      "source": [
        "## Predicting web traffic with node regression\n",
        "\n",
        "머신러닝에서는 회귀(regression)는 continuous 값을 예측하는 것이다. 그래프 데이터에서의 회귀는 각 노드의 continuous value 예측을 수행하는 것이다."
      ],
      "metadata": {
        "id": "41bh71KmF4OM"
      }
    },
    {
      "cell_type": "code",
      "source": [
        "from torch_geometric.datasets import WikipediaNetwork\n",
        "import torch_geometric.transforms as T\n",
        "\n",
        "dataset = WikipediaNetwork(root = '.', name = 'chameleon', transform = T.RandomNodeSplit(num_val = 200, num_test = 500))\n",
        "data = dataset[0]"
      ],
      "metadata": {
        "id": "iavDllhQFLSW"
      },
      "execution_count": 97,
      "outputs": []
    },
    {
      "cell_type": "code",
      "source": [
        "print('Dataset:',dataset)\n",
        "print('-'*20)\n",
        "print(f'Number of graphs: {len(dataset)}')\n",
        "print(f'Number of nodes: {data.num_nodes}')\n",
        "print(f'Number of edges: {data.num_edges}')\n",
        "print(f'Numver of features: {dataset.num_features}')\n",
        "print(f'Number of classes: {dataset.num_classes}')"
      ],
      "metadata": {
        "colab": {
          "base_uri": "https://localhost:8080/"
        },
        "id": "IXwZg4mfIo8O",
        "outputId": "5469b6a8-907d-4f24-d463-6083b213c988"
      },
      "execution_count": 98,
      "outputs": [
        {
          "output_type": "stream",
          "name": "stdout",
          "text": [
            "Dataset: WikipediaNetwork()\n",
            "--------------------\n",
            "Number of graphs: 1\n",
            "Number of nodes: 2277\n",
            "Number of edges: 36101\n",
            "Numver of features: 2325\n",
            "Number of classes: 5\n"
          ]
        }
      ]
    },
    {
      "cell_type": "code",
      "source": [
        "degrees = degree(data.edge_index[0]).numpy()\n",
        "\n",
        "numbers = Counter(degrees) # key = 이웃 노드 개수, value = 빈도\n",
        "\n",
        "fig, ax = plt.subplots()\n",
        "ax.set_xlabel('Node degrees')\n",
        "ax.set_ylabel('Number of nodes')\n",
        "plt.bar(numbers.keys(), numbers.values())"
      ],
      "metadata": {
        "colab": {
          "base_uri": "https://localhost:8080/",
          "height": 467
        },
        "id": "tJ51ni3II-Hy",
        "outputId": "bb9bd6b1-6732-42e2-9966-95e0b21ae2d0"
      },
      "execution_count": 99,
      "outputs": [
        {
          "output_type": "execute_result",
          "data": {
            "text/plain": [
              "<BarContainer object of 63 artists>"
            ]
          },
          "metadata": {},
          "execution_count": 99
        },
        {
          "output_type": "display_data",
          "data": {
            "text/plain": [
              "<Figure size 640x480 with 1 Axes>"
            ],
            "image/png": "[encoded data removed]"
          },
          "metadata": {}
        }
      ]
    },
    {
      "cell_type": "markdown",
      "source": [
        "위키피디아의 카멜레온 데이터의 target은 5개의 Categorical 값을 갖지만, 회귀 문제에서는 적합하지 않은 target이기 때문에 회귀에 활용 가능한 형태의 Continuous 데이터를 다운 받아 활용한다."
      ],
      "metadata": {
        "id": "0WStsDP9WW9H"
      }
    },
    {
      "cell_type": "code",
      "source": [
        "from io import BytesIO\n",
        "from urllib.request import urlopen\n",
        "from zipfile import ZipFile\n",
        "\n",
        "url = 'https://snap.stanford.edu/data/wikipedia.zip'\n",
        "with urlopen(url) as zurl:\n",
        "    with ZipFile(BytesIO(zurl.read())) as zfile:\n",
        "        zfile.extractall('.')"
      ],
      "metadata": {
        "id": "t-OpbLVzK5Om"
      },
      "execution_count": 100,
      "outputs": []
    },
    {
      "cell_type": "code",
      "source": [
        "import pandas as pd\n",
        "\n",
        "df = pd.read_csv('wikipedia/chameleon/musae_chameleon_target.csv')\n",
        "values = np.log10(df['target']) # 로그 스케일링\n",
        "data.y = torch.tensor(values)\n",
        "data.y"
      ],
      "metadata": {
        "colab": {
          "base_uri": "https://localhost:8080/"
        },
        "id": "ldHvHCbnUZlg",
        "outputId": "aeeb5077-07c2-4a3c-9a04-e8a5a413ccba"
      },
      "execution_count": 101,
      "outputs": [
        {
          "output_type": "execute_result",
          "data": {
            "text/plain": [
              "tensor([2.2330, 3.9079, 3.9329,  ..., 1.9956, 4.3598, 2.4409],\n",
              "       dtype=torch.float64)"
            ]
          },
          "metadata": {},
          "execution_count": 101
        }
      ]
    },
    {
      "cell_type": "code",
      "source": [
        "import seaborn as sns\n",
        "from scipy.stats import norm\n",
        "\n",
        "df['target'] = values\n",
        "sns.distplot(df['target'], fit = norm)"
      ],
      "metadata": {
        "colab": {
          "base_uri": "https://localhost:8080/",
          "height": 663
        },
        "id": "5QLnHKc2UeSf",
        "outputId": "907843a4-6b01-4d0b-9590-58898c2c19f5"
      },
      "execution_count": 102,
      "outputs": [
        {
          "output_type": "stream",
          "name": "stderr",
          "text": [
            "<ipython-input-102-8495de2504fe>:5: UserWarning: \n",
            "\n",
            "`distplot` is a deprecated function and will be removed in seaborn v0.14.0.\n",
            "\n",
            "Please adapt your code to use either `displot` (a figure-level function with\n",
            "similar flexibility) or `histplot` (an axes-level function for histograms).\n",
            "\n",
            "For a guide to updating your code to use the new functions, please see\n",
            "https://gist.github.com/mwaskom/de44147ed2974457ad6372750bbe5751\n",
            "\n",
            "  sns.distplot(df['target'], fit = norm)\n"
          ]
        },
        {
          "output_type": "execute_result",
          "data": {
            "text/plain": [
              "<Axes: xlabel='target', ylabel='Density'>"
            ]
          },
          "metadata": {},
          "execution_count": 102
        },
        {
          "output_type": "display_data",
          "data": {
            "text/plain": [
              "<Figure size 640x480 with 1 Axes>"
            ],
            "image/png": "[encoded data removed]"
          },
          "metadata": {}
        }
      ]
    },
    {
      "cell_type": "code",
      "source": [
        "class GCN(torch.nn.Module):\n",
        "  def __init__(self, dim_in, dim_h, dim_out):\n",
        "    super().__init__()\n",
        "    self.gcn1 = GCNConv(dim_in, dim_h*4)\n",
        "    self.gcn2 = GCNConv(dim_h*4, dim_h*2)\n",
        "    self.gcn3 = GCNConv(dim_h*2, dim_h)\n",
        "    self.linear = torch.nn.Linear(dim_h, dim_out)\n",
        "\n",
        "  def forward(self, x, edge_index):\n",
        "    h = self.gcn1(x, edge_index)\n",
        "    h = torch.relu(h) # 활설화 함수 추가\n",
        "    h = F.dropout(h, p = 0.5, training = self.training) # 드랍아웃 추가\n",
        "    h = self.gcn2(h, edge_index)\n",
        "    h = torch.relu(h)\n",
        "    h = F.dropout(h, p = 0.5, training = self.training)\n",
        "    h = self.gcn3(h, edge_index)\n",
        "    h = torch.relu(h)\n",
        "    h = self.linear(h)\n",
        "    return h\n",
        "\n",
        "  def fit(self, data, epochs):\n",
        "    optimizer = torch.optim.Adam(self.parameters(), lr = 0.02, weight_decay = 5e-4)\n",
        "\n",
        "\n",
        "    self.train()\n",
        "    for epoch in range(epochs+1):\n",
        "      optimizer.zero_grad()\n",
        "      out = self(data.x, data.edge_index)\n",
        "      # print(out.squeeze()[data.train_mask[:, 0]])\n",
        "      # print(data.y.shape)\n",
        "      loss = F.mse_loss(out.squeeze()[data.train_mask], data.y[data.train_mask].float())\n",
        "      loss.backward()\n",
        "      optimizer.step()\n",
        "\n",
        "      if epoch % 20 == 0:\n",
        "        # print(out.squeeze()[data.val_mask].shape)\n",
        "        val_loss = F.mse_loss(out.squeeze()[data.val_mask], data.y[data.val_mask].float())\n",
        "        print(f'Epoch {epoch} | Train Loss: {loss:.4f} | Val Loss: {val_loss:.4f}')\n",
        "\n",
        "  @torch.no_grad()\n",
        "  def test(self, data):\n",
        "    self.eval()\n",
        "    out = self(data.x, data.edge_index)\n",
        "    loss = F.mse_loss(out.squeeze()[data.test_mask], data.y[data.test_mask].float()) # F.mse_loss 와 nn.torch.MSEloss 차이 확인 필요\n",
        "\n",
        "    return loss"
      ],
      "metadata": {
        "id": "SPzFImxRUozu"
      },
      "execution_count": 103,
      "outputs": []
    },
    {
      "cell_type": "code",
      "source": [
        "gcn = GCN(dataset.num_features, 128, 1)\n",
        "print(gcn)\n",
        "\n",
        "gcn.fit(data, epochs = 200)"
      ],
      "metadata": {
        "colab": {
          "base_uri": "https://localhost:8080/"
        },
        "id": "OVOdp2xog-kl",
        "outputId": "054360f0-9258-4d6b-8eef-37f2ceeeaee4"
      },
      "execution_count": 104,
      "outputs": [
        {
          "output_type": "stream",
          "name": "stdout",
          "text": [
            "GCN(\n",
            "  (gcn1): GCNConv(2325, 512)\n",
            "  (gcn2): GCNConv(512, 256)\n",
            "  (gcn3): GCNConv(256, 128)\n",
            "  (linear): Linear(in_features=128, out_features=1, bias=True)\n",
            ")\n",
            "Epoch 0 | Train Loss: 12.6523 | Val Loss: 14.0014\n",
            "Epoch 20 | Train Loss: 11.9352 | Val Loss: 13.1102\n",
            "Epoch 40 | Train Loss: 8.7664 | Val Loss: 9.7796\n",
            "Epoch 60 | Train Loss: 1.6797 | Val Loss: 2.3384\n",
            "Epoch 80 | Train Loss: 0.6808 | Val Loss: 0.7062\n",
            "Epoch 100 | Train Loss: 0.5287 | Val Loss: 0.7738\n",
            "Epoch 120 | Train Loss: 0.4761 | Val Loss: 0.6300\n",
            "Epoch 140 | Train Loss: 0.3705 | Val Loss: 0.6282\n",
            "Epoch 160 | Train Loss: 0.3094 | Val Loss: 0.6428\n",
            "Epoch 180 | Train Loss: 0.2916 | Val Loss: 0.6493\n",
            "Epoch 200 | Train Loss: 0.2728 | Val Loss: 0.6932\n"
          ]
        }
      ]
    },
    {
      "cell_type": "code",
      "source": [
        "loss = gcn.test(data)\n",
        "print(f'GCN test loss: {loss: .4f}')"
      ],
      "metadata": {
        "colab": {
          "base_uri": "https://localhost:8080/"
        },
        "id": "oBPRtnROhR4Y",
        "outputId": "59fded35-d27b-4dd6-911e-e519cdb8f191"
      },
      "execution_count": 105,
      "outputs": [
        {
          "output_type": "stream",
          "name": "stdout",
          "text": [
            "GCN test loss:  0.6147\n"
          ]
        }
      ]
    },
    {
      "cell_type": "code",
      "source": [
        "# 회귕 문제에서 활용가능한 평가지표 MSE, MAE, RMSE\n",
        "from sklearn.metrics import mean_squared_error, mean_absolute_error\n",
        "\n",
        "out = gcn(data.x, data.edge_index)\n",
        "y_pred = out.squeeze()[data.test_mask].detach().numpy()\n",
        "print(y_pred.shape)\n",
        "print(data.y[data.test_mask].shape)\n",
        "mse = mean_squared_error(data.y[data.test_mask], y_pred)\n",
        "mae = mean_absolute_error(data.y[data.test_mask], y_pred)\n",
        "\n",
        "print('='*43)\n",
        "print(f'MSE: {mse:.4f}| RMSE: {np.sqrt(mse):.4f} | MAE: {mae:.4f}')\n",
        "print('='*43)"
      ],
      "metadata": {
        "id": "yV1-KY-37PoQ",
        "outputId": "883d7a7e-aad5-4a95-f2df-d3c76664dfce",
        "colab": {
          "base_uri": "https://localhost:8080/"
        }
      },
      "execution_count": 107,
      "outputs": [
        {
          "output_type": "stream",
          "name": "stdout",
          "text": [
            "(500,)\n",
            "torch.Size([500])\n",
            "===========================================\n",
            "MSE: 0.6147| RMSE: 0.7840 | MAE: 0.5926\n",
            "===========================================\n"
          ]
        }
      ]
    },
    {
      "cell_type": "code",
      "source": [
        "fig = sns.regplot(x = data.y[data.test_mask].numpy(), y = y_pred)"
      ],
      "metadata": {
        "id": "nGrApBK774Ig",
        "outputId": "4e4b9de1-3116-4fe2-ffd7-de295ba0983f",
        "colab": {
          "base_uri": "https://localhost:8080/",
          "height": 430
        }
      },
      "execution_count": 109,
      "outputs": [
        {
          "output_type": "display_data",
          "data": {
            "text/plain": [
              "<Figure size 640x480 with 1 Axes>"
            ],
            "image/png": "[encoded data removed]"
          },
          "metadata": {}
        }
      ]
    },
    {
      "cell_type": "code",
      "source": [],
      "metadata": {
        "id": "3Ie_dNRSRNHc"
      },
      "execution_count": null,
      "outputs": []
    }
  ]
}