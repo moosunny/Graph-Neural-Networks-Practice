{
  "nbformat": 4,
  "nbformat_minor": 0,
  "metadata": {
    "colab": {
      "provenance": [],
      "authorship_tag": "ABX9TyNwdgI72h7gGUnjQRDjFQ71",
      "include_colab_link": true
    },
    "kernelspec": {
      "name": "python3",
      "display_name": "Python 3"
    },
    "language_info": {
      "name": "python"
    }
  },
  "cells": [
    {
      "cell_type": "markdown",
      "metadata": {
        "id": "view-in-github",
        "colab_type": "text"
      },
      "source": [
        "<a href=\"https://colab.research.google.com/github/moosunny/Graph-Neural-Networks-Practice/blob/main/Chapter%206.%20%20Intoroducing%20Graph%20Convolution%20Networks.ipynb\" target=\"_parent\"><img src=\"https://colab.research.google.com/assets/colab-badge.svg\" alt=\"Open In Colab\"/></a>"
      ]
    },
    {
      "cell_type": "markdown",
      "source": [
        "## Chapter 6. Intoroducing Graph Convolution Networks\n",
        "\n",
        "이번 챕터에서는 그래프 컨볼루션 네트워크를 소개한고 이전 챕터에서 소개된 Vanilla GNN 의 한게점에 대해 이야기한다.\n",
        "\n",
        "또한, 이전에는 다루지 않았던 Node Regression 문제에 GNN을 적용하여 정형 데이터에도 GNN이 유용함을 확인한다."
      ],
      "metadata": {
        "id": "TUmbV43t9UTr"
      }
    },
    {
      "cell_type": "markdown",
      "source": [
        "그래프 구조는 Tabular와 이미지 데이터와 다르게 개별 노드가 보유한 이웃 노드의 개수는 노드 마다 상이하다.\n",
        "\n",
        "$$ h_i = \\sum_{j \\in N_i} x_j W^T $$\n",
        "\n",
        "상기 수식의 경우 개별 노드에 대한 이웃 노드 개수의 차이를 고려하지 않는다. 만약에 1번 노드가 보유한 이웃 노드의 수가 1000개, 2번 노드가 1개 보유하고 있다고 가정했을 때, 임베딩 된 $h_A$와 $h_B$를 효과적으로 비교하기 위한 방법이 필요하다.\n",
        "\n",
        "따라서, 하기 수식과 같이 임베딩 이웃 노드의 개수에 따라 개별 임베딩 값을 나누어 주면 된다.\n",
        "\n",
        "$$ h_i = \\frac{1}{deg_{(i)}} \\sum_{j \\in N_i} x_j W^T $$\n",
        "\n",
        "이를 통해, 이웃 노드 수를 반영한 차수 행렬을 생성하여 정규화 계수를 추가해주면 된다."
      ],
      "metadata": {
        "id": "smPsMYl-_h_9"
      }
    },
    {
      "cell_type": "code",
      "execution_count": 77,
      "metadata": {
        "colab": {
          "base_uri": "https://localhost:8080/"
        },
        "id": "cn_PgPZ15Wwq",
        "outputId": "a5d1546f-34f2-4cac-e580-7cd922ed84e6"
      },
      "outputs": [
        {
          "output_type": "stream",
          "name": "stdout",
          "text": [
            "[[0.33333333 0.         0.         0.        ]\n",
            " [0.         1.         0.         0.        ]\n",
            " [0.         0.         0.5        0.        ]\n",
            " [0.         0.         0.         0.5       ]]\n",
            "\n",
            "[[0.25       0.         0.         0.        ]\n",
            " [0.         0.5        0.         0.        ]\n",
            " [0.         0.         0.33333333 0.        ]\n",
            " [0.         0.         0.         0.33333333]]\n"
          ]
        }
      ],
      "source": [
        "import numpy as np\n",
        "\n",
        "D = np.array([\n",
        "    [3, 0, 0, 0],\n",
        "    [0, 1, 0, 0],\n",
        "    [0, 0, 2, 0],\n",
        "    [0, 0, 0, 2]\n",
        "])\n",
        "\n",
        "print(np.linalg.inv(D), end = \"\\n\\n\") # D 행렬의 역행렬\n",
        "\n",
        "# 차수 행렬을 구하기 위한 D^-1, self loop를 반영하기 위해 항등행렬을 더해줌\n",
        "D_inv = np.linalg.inv(D + np.identity(4))\n",
        "\n",
        "print(D_inv)"
      ]
    },
    {
      "cell_type": "markdown",
      "source": [
        "노드의 feature 정보를 담은 input 행렬 A와 차수 행렬 D를 앞 혹은 뒤에 곱해주는지에 따라 두가지 효과가 있다.\n",
        "\n",
        "1. $ \\tilde{D}^{-1} \\tilde{A} X W^T $: 모든 열에 대한 정규화\n",
        "2. $  \\tilde{A}\\tilde{D}^{-1} X W^T $: 모든 행에 대한 정규화"
      ],
      "metadata": {
        "id": "edr8Bx73P5hr"
      }
    },
    {
      "cell_type": "code",
      "source": [
        "# 모든 열에 대한 정규화\n",
        "A = np.array([\n",
        "    [1, 1, 1, 1],\n",
        "    [1, 1, 0, 0],\n",
        "    [1, 0, 1, 1],\n",
        "    [1, 0, 1, 1]\n",
        "])\n",
        "\n",
        "print(np.linalg.inv(D + np.identity(4)) @ A)"
      ],
      "metadata": {
        "colab": {
          "base_uri": "https://localhost:8080/"
        },
        "id": "fJ4f088eFISi",
        "outputId": "ea86b97c-8b9f-45c1-ca65-5d8f964397ca"
      },
      "execution_count": null,
      "outputs": [
        {
          "output_type": "stream",
          "name": "stdout",
          "text": [
            "[[0.25       0.25       0.25       0.25      ]\n",
            " [0.5        0.5        0.         0.        ]\n",
            " [0.33333333 0.         0.33333333 0.33333333]\n",
            " [0.33333333 0.         0.33333333 0.33333333]]\n"
          ]
        }
      ]
    },
    {
      "cell_type": "code",
      "source": [
        "# 모든 행에 대한 정규화\n",
        "A = np.array([\n",
        "    [1, 1, 1, 1],\n",
        "    [1, 1, 0, 0],\n",
        "    [1, 0, 1, 1],\n",
        "    [1, 0, 1, 1]\n",
        "])\n",
        "\n",
        "print(A @ np.linalg.inv(D + np.identity(4)))"
      ],
      "metadata": {
        "colab": {
          "base_uri": "https://localhost:8080/"
        },
        "id": "JiJsYzygHpfb",
        "outputId": "413dca4a-a953-4833-87b2-cae8fc2e3d79"
      },
      "execution_count": null,
      "outputs": [
        {
          "output_type": "stream",
          "name": "stdout",
          "text": [
            "[[0.25       0.5        0.33333333 0.33333333]\n",
            " [0.25       0.5        0.         0.        ]\n",
            " [0.25       0.         0.33333333 0.33333333]\n",
            " [0.25       0.         0.33333333 0.33333333]]\n"
          ]
        }
      ]
    },
    {
      "cell_type": "markdown",
      "source": [
        "실제로 두가지 방법을 모두 코드를 통해 확인 했을 때, 열을 정규화한 경우의 각 열의 합은 1이고 행을 정규화한 경우는 각 행의 합이 1인 것을 확인할 수 있다.\n",
        "\n",
        "GCN의 저자들은 이 두가지 정규화 방식을 혼용한 hybrid 방식의 정규화 방법을 제안했다. 이웃이 많은 노드의 특징이 고립된 노드의 특징과 달리 매우 쉽게 퍼진다는 것을 발견했고, 이를 해결하기 위해 이웃 노드가 적은 노드의 가중치가 더 높도록 유도하는 정규화 식을 개발했다.\n",
        "\n",
        "$$H =  \\tilde{D}^{-\\frac{1}{2}} \\tilde{A^T} \\tilde{D}^{-\\frac{1}{2}}W^T $$\n",
        "\n",
        "개별 임베딩 측면에서 이 수식은 다음과 같다.\n",
        "\n",
        "$$ h_i = \\sum_{j \\in N_i}\\frac{1}{\\sqrt{\\deg(i)} \\sqrt{\\deg(j)}} x_j W^T $$\n",
        "\n",
        "이웃이 많은 노드의 특징이 잘 퍼진다(spread)라는 표현이 있는데, 이는 정규화가 잘 되지 않거나 없을 경우 이웃이 없는 노드에 비해 이웃 노드로 부터 많은 영향을 받고 정규화 과정에서 갖고 있는 특징값의 평균화(퍼진다.)가 많이 될 가능성이 높다.\n",
        "\n"
      ],
      "metadata": {
        "id": "HJHPYZBkRusP"
      }
    },
    {
      "cell_type": "markdown",
      "source": [
        "### Comparing graph convolution and graph linear layers\n",
        "\n",
        "이번 챕터에서는 이전 챕터에서 활용한 Cora, Facebook page 데이터에서의 성능 평가를 진행한다.\n",
        "\n",
        "Vanilla GNN과 다르게 GCN의 메인 특징은 노드 차수를 고려하여 feature에 가중치를 부여한다는 것이다. 본격적인 GCN 구현 전에 노드의 차수를 두개 데이터 셋을 대상으로 분석한다.\n",
        "\n",
        "GCN 레이어는 노드 별로 차수값(해당 노드가 보유한 이웃 노드의 수) 차이가 클 경우에 성능이 좋을 것으로 예상할 수 있다. 만약 모든 노드의 차수가 동일한 경우에는 $(\\sqrt{deg(i)} \\sqrt{deg(i)}) = deg(i)$ 로 수식화할 수 있다."
      ],
      "metadata": {
        "id": "xqDD7BcYYSuU"
      }
    },
    {
      "cell_type": "code",
      "source": [
        "!pip install torch_geometric"
      ],
      "metadata": {
        "id": "L0QjCLpBcaYS",
        "outputId": "41e0d585-75f7-463e-eec3-72794863c4d8",
        "colab": {
          "base_uri": "https://localhost:8080/"
        }
      },
      "execution_count": 2,
      "outputs": [
        {
          "output_type": "stream",
          "name": "stdout",
          "text": [
            "Collecting torch_geometric\n",
            "  Downloading torch_geometric-2.6.1-py3-none-any.whl.metadata (63 kB)\n",
            "\u001b[?25l     \u001b[90m━━━━━━━━━━━━━━━━━━━━━━━━━━━━━━━━━━━━━━━━\u001b[0m \u001b[32m0.0/63.1 kB\u001b[0m \u001b[31m?\u001b[0m eta \u001b[36m-:--:--\u001b[0m\r\u001b[2K     \u001b[90m━━━━━━━━━━━━━━━━━━━━━━━━━━━━━━━━━━━━━━━━\u001b[0m \u001b[32m63.1/63.1 kB\u001b[0m \u001b[31m1.8 MB/s\u001b[0m eta \u001b[36m0:00:00\u001b[0m\n",
            "\u001b[?25hRequirement already satisfied: aiohttp in /usr/local/lib/python3.11/dist-packages (from torch_geometric) (3.11.11)\n",
            "Requirement already satisfied: fsspec in /usr/local/lib/python3.11/dist-packages (from torch_geometric) (2024.10.0)\n",
            "Requirement already satisfied: jinja2 in /usr/local/lib/python3.11/dist-packages (from torch_geometric) (3.1.5)\n",
            "Requirement already satisfied: numpy in /usr/local/lib/python3.11/dist-packages (from torch_geometric) (1.26.4)\n",
            "Requirement already satisfied: psutil>=5.8.0 in /usr/local/lib/python3.11/dist-packages (from torch_geometric) (5.9.5)\n",
            "Requirement already satisfied: pyparsing in /usr/local/lib/python3.11/dist-packages (from torch_geometric) (3.2.1)\n",
            "Requirement already satisfied: requests in /usr/local/lib/python3.11/dist-packages (from torch_geometric) (2.32.3)\n",
            "Requirement already satisfied: tqdm in /usr/local/lib/python3.11/dist-packages (from torch_geometric) (4.67.1)\n",
            "Requirement already satisfied: aiohappyeyeballs>=2.3.0 in /usr/local/lib/python3.11/dist-packages (from aiohttp->torch_geometric) (2.4.4)\n",
            "Requirement already satisfied: aiosignal>=1.1.2 in /usr/local/lib/python3.11/dist-packages (from aiohttp->torch_geometric) (1.3.2)\n",
            "Requirement already satisfied: attrs>=17.3.0 in /usr/local/lib/python3.11/dist-packages (from aiohttp->torch_geometric) (25.1.0)\n",
            "Requirement already satisfied: frozenlist>=1.1.1 in /usr/local/lib/python3.11/dist-packages (from aiohttp->torch_geometric) (1.5.0)\n",
            "Requirement already satisfied: multidict<7.0,>=4.5 in /usr/local/lib/python3.11/dist-packages (from aiohttp->torch_geometric) (6.1.0)\n",
            "Requirement already satisfied: propcache>=0.2.0 in /usr/local/lib/python3.11/dist-packages (from aiohttp->torch_geometric) (0.2.1)\n",
            "Requirement already satisfied: yarl<2.0,>=1.17.0 in /usr/local/lib/python3.11/dist-packages (from aiohttp->torch_geometric) (1.18.3)\n",
            "Requirement already satisfied: MarkupSafe>=2.0 in /usr/local/lib/python3.11/dist-packages (from jinja2->torch_geometric) (3.0.2)\n",
            "Requirement already satisfied: charset-normalizer<4,>=2 in /usr/local/lib/python3.11/dist-packages (from requests->torch_geometric) (3.4.1)\n",
            "Requirement already satisfied: idna<4,>=2.5 in /usr/local/lib/python3.11/dist-packages (from requests->torch_geometric) (3.10)\n",
            "Requirement already satisfied: urllib3<3,>=1.21.1 in /usr/local/lib/python3.11/dist-packages (from requests->torch_geometric) (2.3.0)\n",
            "Requirement already satisfied: certifi>=2017.4.17 in /usr/local/lib/python3.11/dist-packages (from requests->torch_geometric) (2025.1.31)\n",
            "Downloading torch_geometric-2.6.1-py3-none-any.whl (1.1 MB)\n",
            "\u001b[2K   \u001b[90m━━━━━━━━━━━━━━━━━━━━━━━━━━━━━━━━━━━━━━━━\u001b[0m \u001b[32m1.1/1.1 MB\u001b[0m \u001b[31m17.7 MB/s\u001b[0m eta \u001b[36m0:00:00\u001b[0m\n",
            "\u001b[?25hInstalling collected packages: torch_geometric\n",
            "Successfully installed torch_geometric-2.6.1\n"
          ]
        }
      ]
    },
    {
      "cell_type": "code",
      "source": [
        "pip install pyg_lib torch_scatter torch_sparse torch_cluster torch_spline_conv -f https://data.pyg.org/whl/torch-2.5.0+cu124.html"
      ],
      "metadata": {
        "id": "dXqa4HAFckAo",
        "outputId": "4f321ee0-a91e-4f47-82ba-c23525a8e584",
        "colab": {
          "base_uri": "https://localhost:8080/"
        }
      },
      "execution_count": 3,
      "outputs": [
        {
          "output_type": "stream",
          "name": "stdout",
          "text": [
            "Looking in links: https://data.pyg.org/whl/torch-2.5.0+cu124.html\n",
            "Collecting pyg_lib\n",
            "  Downloading https://data.pyg.org/whl/torch-2.5.0%2Bcu124/pyg_lib-0.4.0%2Bpt25cu124-cp311-cp311-linux_x86_64.whl (2.5 MB)\n",
            "\u001b[2K     \u001b[90m━━━━━━━━━━━━━━━━━━━━━━━━━━━━━━━━━━━━━━━━\u001b[0m \u001b[32m2.5/2.5 MB\u001b[0m \u001b[31m51.4 MB/s\u001b[0m eta \u001b[36m0:00:00\u001b[0m\n",
            "\u001b[?25hCollecting torch_scatter\n",
            "  Downloading https://data.pyg.org/whl/torch-2.5.0%2Bcu124/torch_scatter-2.1.2%2Bpt25cu124-cp311-cp311-linux_x86_64.whl (10.8 MB)\n",
            "\u001b[2K     \u001b[90m━━━━━━━━━━━━━━━━━━━━━━━━━━━━━━━━━━━━━━━━\u001b[0m \u001b[32m10.8/10.8 MB\u001b[0m \u001b[31m72.3 MB/s\u001b[0m eta \u001b[36m0:00:00\u001b[0m\n",
            "\u001b[?25hCollecting torch_sparse\n",
            "  Downloading https://data.pyg.org/whl/torch-2.5.0%2Bcu124/torch_sparse-0.6.18%2Bpt25cu124-cp311-cp311-linux_x86_64.whl (5.2 MB)\n",
            "\u001b[2K     \u001b[90m━━━━━━━━━━━━━━━━━━━━━━━━━━━━━━━━━━━━━━━━\u001b[0m \u001b[32m5.2/5.2 MB\u001b[0m \u001b[31m97.2 MB/s\u001b[0m eta \u001b[36m0:00:00\u001b[0m\n",
            "\u001b[?25hCollecting torch_cluster\n",
            "  Downloading https://data.pyg.org/whl/torch-2.5.0%2Bcu124/torch_cluster-1.6.3%2Bpt25cu124-cp311-cp311-linux_x86_64.whl (3.4 MB)\n",
            "\u001b[2K     \u001b[90m━━━━━━━━━━━━━━━━━━━━━━━━━━━━━━━━━━━━━━━━\u001b[0m \u001b[32m3.4/3.4 MB\u001b[0m \u001b[31m84.3 MB/s\u001b[0m eta \u001b[36m0:00:00\u001b[0m\n",
            "\u001b[?25hCollecting torch_spline_conv\n",
            "  Downloading https://data.pyg.org/whl/torch-2.5.0%2Bcu124/torch_spline_conv-1.2.2%2Bpt25cu124-cp311-cp311-linux_x86_64.whl (1.0 MB)\n",
            "\u001b[2K     \u001b[90m━━━━━━━━━━━━━━━━━━━━━━━━━━━━━━━━━━━━━━━━\u001b[0m \u001b[32m1.0/1.0 MB\u001b[0m \u001b[31m37.7 MB/s\u001b[0m eta \u001b[36m0:00:00\u001b[0m\n",
            "\u001b[?25hRequirement already satisfied: scipy in /usr/local/lib/python3.11/dist-packages (from torch_sparse) (1.13.1)\n",
            "Requirement already satisfied: numpy<2.3,>=1.22.4 in /usr/local/lib/python3.11/dist-packages (from scipy->torch_sparse) (1.26.4)\n",
            "Installing collected packages: torch_spline_conv, torch_scatter, pyg_lib, torch_sparse, torch_cluster\n",
            "Successfully installed pyg_lib-0.4.0+pt25cu124 torch_cluster-1.6.3+pt25cu124 torch_scatter-2.1.2+pt25cu124 torch_sparse-0.6.18+pt25cu124 torch_spline_conv-1.2.2+pt25cu124\n"
          ]
        }
      ]
    },
    {
      "cell_type": "code",
      "source": [
        "from torch_geometric.datasets import Planetoid\n",
        "from torch_geometric.utils import degree\n",
        "from collections import Counter\n",
        "import matplotlib.pyplot as plt"
      ],
      "metadata": {
        "id": "0H59sK64TTLt"
      },
      "execution_count": 141,
      "outputs": []
    },
    {
      "cell_type": "markdown",
      "source": [],
      "metadata": {
        "id": "QI7ITkL7DU5M"
      }
    },
    {
      "cell_type": "code",
      "source": [
        "dataset = Planetoid(root = '.', name = 'Cora')\n",
        "data = dataset[0]\n",
        "data"
      ],
      "metadata": {
        "id": "zTal_sRfcWrv",
        "outputId": "a92b6de5-97a4-4ae1-bb06-7e3083581bd4",
        "colab": {
          "base_uri": "https://localhost:8080/"
        }
      },
      "execution_count": 142,
      "outputs": [
        {
          "output_type": "execute_result",
          "data": {
            "text/plain": [
              "Data(x=[2708, 1433], edge_index=[2, 10556], y=[2708], train_mask=[2708], val_mask=[2708], test_mask=[2708])"
            ]
          },
          "metadata": {},
          "execution_count": 142
        }
      ]
    },
    {
      "cell_type": "code",
      "source": [
        "# 각 노드가 보유한 이웃 노드의 개수를 출력하기 위함\n",
        "degrees = degree(data.edge_index[0]).numpy()\n",
        "degrees"
      ],
      "metadata": {
        "id": "E-yUp62Yc-a6",
        "outputId": "3234d5fe-8b9f-4454-e902-fe3e736915ce",
        "colab": {
          "base_uri": "https://localhost:8080/"
        }
      },
      "execution_count": 29,
      "outputs": [
        {
          "output_type": "execute_result",
          "data": {
            "text/plain": [
              "array([3., 3., 5., ..., 1., 4., 4.], dtype=float32)"
            ]
          },
          "metadata": {},
          "execution_count": 29
        }
      ]
    },
    {
      "cell_type": "markdown",
      "source": [
        "하기, 분포를 통해 노드별로 보유한 이웃 노드의 개수가 불균형 함을 확인할 수 있다."
      ],
      "metadata": {
        "id": "qkho9LjGsgWf"
      }
    },
    {
      "cell_type": "code",
      "source": [
        "def plot_degrees(data):\n",
        "  degrees = degree(data.edge_index[0]).numpy()\n",
        "\n",
        "  numbers = Counter(degrees) # key = 이웃 노드 개수, value = 빈도\n",
        "\n",
        "  fig, ax = plt.subplots()\n",
        "  ax.set_xlabel('Node degrees')\n",
        "  ax.set_ylabel('Number of nodes')\n",
        "  plt.bar(numbers.keys(), numbers.values())"
      ],
      "metadata": {
        "id": "GltY5gE6LIv0"
      },
      "execution_count": 73,
      "outputs": []
    },
    {
      "cell_type": "code",
      "source": [
        "numbers = Counter(degrees) # key = 이웃 노드 개수, value = 빈도\n",
        "\n",
        "fig, ax = plt.subplots()\n",
        "ax.set_xlabel('Node degrees')\n",
        "ax.set_ylabel('Number of nodes')\n",
        "plt.bar(numbers.keys(), numbers.values())"
      ],
      "metadata": {
        "id": "u3E2rY36dG3d",
        "outputId": "82bfbd52-1375-4acd-f492-324fe66c183a",
        "colab": {
          "base_uri": "https://localhost:8080/",
          "height": 467
        }
      },
      "execution_count": 30,
      "outputs": [
        {
          "output_type": "execute_result",
          "data": {
            "text/plain": [
              "<BarContainer object of 37 artists>"
            ]
          },
          "metadata": {},
          "execution_count": 30
        },
        {
          "output_type": "display_data",
          "data": {
            "text/plain": [
              "<Figure size 640x480 with 1 Axes>"
            ],
            "image/png": "[encoded data removed]"
          },
          "metadata": {}
        }
      ]
    },
    {
      "cell_type": "code",
      "source": [
        "# Facebook page 데이터의 경우도 노드별로 보유한 이웃 노드의 개수가 불균형하다.\n",
        "from torch_geometric.datasets import FacebookPagePage\n",
        "dataset = FacebookPagePage(root = '.')\n",
        "data = dataset[0]\n",
        "\n",
        "degrees = degree(data.edge_index[0]).numpy()\n",
        "\n",
        "numbers = Counter(degrees) # key = 이웃 노드 개수, value = 빈도\n",
        "\n",
        "fig, ax = plt.subplots()\n",
        "ax.set_xlabel('Node degrees')\n",
        "ax.set_ylabel('Number of nodes')\n",
        "plt.bar(numbers.keys(), numbers.values())"
      ],
      "metadata": {
        "id": "LkupROM0dn9n",
        "outputId": "e76336e2-67e5-49e7-ab8b-e6f3e2232dcb",
        "colab": {
          "base_uri": "https://localhost:8080/",
          "height": 467
        }
      },
      "execution_count": 20,
      "outputs": [
        {
          "output_type": "execute_result",
          "data": {
            "text/plain": [
              "<BarContainer object of 233 artists>"
            ]
          },
          "metadata": {},
          "execution_count": 20
        },
        {
          "output_type": "display_data",
          "data": {
            "text/plain": [
              "<Figure size 640x480 with 1 Axes>"
            ],
            "image/png": "[encoded data removed]"
          },
          "metadata": {}
        }
      ]
    },
    {
      "cell_type": "markdown",
      "source": [
        "## Implementing GCN"
      ],
      "metadata": {
        "id": "9KJxzVAdtjme"
      }
    },
    {
      "cell_type": "code",
      "source": [
        "import torch\n",
        "import torch.nn.functional as F\n",
        "from torch_geometric.nn import GCNConv"
      ],
      "metadata": {
        "id": "KXsVnzugs-7L"
      },
      "execution_count": 31,
      "outputs": []
    },
    {
      "cell_type": "code",
      "source": [
        "# Metric 정의\n",
        "def accuracy(pred_y, y):\n",
        "  return ((pred_y == y).sum()/len(y)).item()"
      ],
      "metadata": {
        "id": "3tdtLsktt-76"
      },
      "execution_count": 32,
      "outputs": []
    },
    {
      "cell_type": "code",
      "source": [
        "class GCN(torch.nn.Module):\n",
        "  def __init__(self, dim_in, dim_h, dim_out):\n",
        "    super().__init__()\n",
        "    self.gcn1 = GCNConv(dim_in, dim_h)\n",
        "    self.gcn2 = GCNConv(dim_h, dim_out)\n",
        "\n",
        "  def forward(self, x, edge_index):\n",
        "    h = self.gcn1(x, edge_index)\n",
        "    h = torch.relu(h)\n",
        "    h = self.gcn2(h, edge_index)\n",
        "\n",
        "    return F.log_softmax(h, dim = 1)\n",
        "\n",
        "  def fit(self, data, epochs):\n",
        "    criterion = torch.nn.CrossEntropyLoss()\n",
        "    optimizer = torch.optim.Adam(self.parameters(), lr = 0.01, weight_decay = 5e-4)\n",
        "\n",
        "    self.train()\n",
        "    for epoch in range(epochs+1):\n",
        "      optimizer.zero_grad()\n",
        "      out = self(data.x, data.edge_index)\n",
        "      loss = criterion(out[data.train_mask], data.y[data.train_mask])\n",
        "      acc = accuracy(out[data.train_mask].argmax(dim = 1), data.y[data.train_mask])\n",
        "      loss.backward()\n",
        "      optimizer.step()\n",
        "\n",
        "      if epoch % 20 == 0:\n",
        "        val_loss = criterion(out[data.val_mask], data.y[data.val_mask])\n",
        "        val_acc = accuracy(out[data.val_mask].argmax(dim = 1), data.y[data.val_mask])\n",
        "        print(f'Epoch {epoch} | Train Loss: {loss:.4f} | Train Acc: {acc:4f} | Val Loss: {val_loss:.4f} | Val Acc: {val_acc:.4f}')\n",
        "\n",
        "  @torch.no_grad()\n",
        "  def test(self, data):\n",
        "    self.eval()\n",
        "    out = self(data.x, data.edge_index)\n",
        "    acc = accuracy(out[data.test_mask].argmax(dim = 1), data.y[data.test_mask])\n",
        "\n",
        "    return acc"
      ],
      "metadata": {
        "id": "sxwaNZs5uPvV"
      },
      "execution_count": 49,
      "outputs": []
    },
    {
      "cell_type": "code",
      "source": [
        "gcn = GCN(dataset.num_features, 16, dataset.num_classes)\n",
        "print(gcn)\n",
        "gcn.fit(data, epochs = 200)"
      ],
      "metadata": {
        "id": "pnYEdVmdB-cX",
        "outputId": "63fd5720-5cd9-4af5-ae5d-e1f8f5850907",
        "colab": {
          "base_uri": "https://localhost:8080/"
        }
      },
      "execution_count": 50,
      "outputs": [
        {
          "output_type": "stream",
          "name": "stdout",
          "text": [
            "GCN(\n",
            "  (gcn1): GCNConv(1433, 16)\n",
            "  (gcn2): GCNConv(16, 7)\n",
            ")\n",
            "Epoch 0 | Train Loss: 1.9442 | Train Acc: 0.178571 | Val Loss: 1.9447 | Val Acc: 0.1140\n",
            "Epoch 20 | Train Loss: 0.1240 | Train Acc: 1.000000 | Val Loss: 0.7800 | Val Acc: 0.7660\n",
            "Epoch 40 | Train Loss: 0.0163 | Train Acc: 1.000000 | Val Loss: 0.7392 | Val Acc: 0.7600\n",
            "Epoch 60 | Train Loss: 0.0157 | Train Acc: 1.000000 | Val Loss: 0.7322 | Val Acc: 0.7680\n",
            "Epoch 80 | Train Loss: 0.0181 | Train Acc: 1.000000 | Val Loss: 0.7289 | Val Acc: 0.7720\n",
            "Epoch 100 | Train Loss: 0.0167 | Train Acc: 1.000000 | Val Loss: 0.7302 | Val Acc: 0.7740\n",
            "Epoch 120 | Train Loss: 0.0148 | Train Acc: 1.000000 | Val Loss: 0.7318 | Val Acc: 0.7740\n",
            "Epoch 140 | Train Loss: 0.0134 | Train Acc: 1.000000 | Val Loss: 0.7329 | Val Acc: 0.7740\n",
            "Epoch 160 | Train Loss: 0.0124 | Train Acc: 1.000000 | Val Loss: 0.7344 | Val Acc: 0.7760\n",
            "Epoch 180 | Train Loss: 0.0115 | Train Acc: 1.000000 | Val Loss: 0.7357 | Val Acc: 0.7740\n",
            "Epoch 200 | Train Loss: 0.0109 | Train Acc: 1.000000 | Val Loss: 0.7367 | Val Acc: 0.7760\n"
          ]
        }
      ]
    },
    {
      "cell_type": "code",
      "source": [
        "acc = gcn.test(data)\n",
        "print(f'Test Accuracy: {acc*100:.2f}%')"
      ],
      "metadata": {
        "id": "fqsE98AiDSJw",
        "outputId": "c1dab50f-4150-4c47-ab0b-436c879a42bc",
        "colab": {
          "base_uri": "https://localhost:8080/"
        }
      },
      "execution_count": 53,
      "outputs": [
        {
          "output_type": "stream",
          "name": "stdout",
          "text": [
            "Test Accuracy: 81.50%\n"
          ]
        }
      ]
    },
    {
      "cell_type": "markdown",
      "source": [
        "## Predicting web traffic with node regression\n",
        "\n",
        "머신러닝에서는 회귀(regression)는 continuous 값을 예측하는 것이다. 그래프 데이터에서의 회귀는 각 노드의 continuous value 예측을 수행하는 것이다."
      ],
      "metadata": {
        "id": "41bh71KmF4OM"
      }
    },
    {
      "cell_type": "code",
      "source": [
        "from torch_geometric.datasets import WikipediaNetwork\n",
        "import torch_geometric.transforms as T\n",
        "\n",
        "dataset = WikipediaNetwork(root = '.', name = 'chameleon', transform = T.RandomNodeSplit(num_val = 200, num_test = 500))\n",
        "data = dataset[0]"
      ],
      "metadata": {
        "id": "iavDllhQFLSW"
      },
      "execution_count": 180,
      "outputs": []
    },
    {
      "cell_type": "code",
      "source": [
        "print('Dataset:',dataset)\n",
        "print('-'*20)\n",
        "print(f'Number of graphs: {len(dataset)}')\n",
        "print(f'Number of nodes: {data.num_nodes}')\n",
        "print(f'Number of edges: {data.num_edges}')\n",
        "print(f'Numver of features: {dataset.num_features}')\n",
        "print(f'Number of classes: {dataset.num_classes}')"
      ],
      "metadata": {
        "id": "IXwZg4mfIo8O",
        "outputId": "c3f7a48f-2bf1-41ca-86a5-66326e510396",
        "colab": {
          "base_uri": "https://localhost:8080/"
        }
      },
      "execution_count": 181,
      "outputs": [
        {
          "output_type": "stream",
          "name": "stdout",
          "text": [
            "Dataset: WikipediaNetwork()\n",
            "--------------------\n",
            "Number of graphs: 1\n",
            "Number of nodes: 2277\n",
            "Number of edges: 36101\n",
            "Numver of features: 2325\n",
            "Number of classes: 5\n"
          ]
        }
      ]
    },
    {
      "cell_type": "code",
      "source": [
        "len(data.train_mask)"
      ],
      "metadata": {
        "id": "aegHNCZNsMbd",
        "outputId": "aa6363b5-a5fe-4141-a9ef-b3fb2fb1bd7b",
        "colab": {
          "base_uri": "https://localhost:8080/"
        }
      },
      "execution_count": 182,
      "outputs": [
        {
          "output_type": "execute_result",
          "data": {
            "text/plain": [
              "2277"
            ]
          },
          "metadata": {},
          "execution_count": 182
        }
      ]
    },
    {
      "cell_type": "code",
      "source": [
        "data.train_mask.shape"
      ],
      "metadata": {
        "id": "NySoXRIZwdXT",
        "outputId": "5cfd4cc0-5c6f-4c36-cb55-52c98891b78b",
        "colab": {
          "base_uri": "https://localhost:8080/"
        }
      },
      "execution_count": 183,
      "outputs": [
        {
          "output_type": "execute_result",
          "data": {
            "text/plain": [
              "torch.Size([2277])"
            ]
          },
          "metadata": {},
          "execution_count": 183
        }
      ]
    },
    {
      "cell_type": "code",
      "source": [
        "degrees = degree(data.edge_index[0]).numpy()\n",
        "\n",
        "numbers = Counter(degrees) # key = 이웃 노드 개수, value = 빈도\n",
        "\n",
        "fig, ax = plt.subplots()\n",
        "ax.set_xlabel('Node degrees')\n",
        "ax.set_ylabel('Number of nodes')\n",
        "plt.bar(numbers.keys(), numbers.values())"
      ],
      "metadata": {
        "id": "tJ51ni3II-Hy",
        "outputId": "64227826-56d7-4ba2-e5e1-f6c3e21fa421",
        "colab": {
          "base_uri": "https://localhost:8080/",
          "height": 467
        }
      },
      "execution_count": 184,
      "outputs": [
        {
          "output_type": "execute_result",
          "data": {
            "text/plain": [
              "<BarContainer object of 63 artists>"
            ]
          },
          "metadata": {},
          "execution_count": 184
        },
        {
          "output_type": "display_data",
          "data": {
            "text/plain": [
              "<Figure size 640x480 with 1 Axes>"
            ],
            "image/png": "[encoded data removed]"
          },
          "metadata": {}
        }
      ]
    },
    {
      "cell_type": "code",
      "source": [
        "data.train_mask"
      ],
      "metadata": {
        "id": "bZ0mrWAGmVh7",
        "outputId": "b6d3cdad-574d-48d8-af74-02a7198871a4",
        "colab": {
          "base_uri": "https://localhost:8080/"
        }
      },
      "execution_count": 185,
      "outputs": [
        {
          "output_type": "execute_result",
          "data": {
            "text/plain": [
              "tensor([ True,  True,  True,  ...,  True, False,  True])"
            ]
          },
          "metadata": {},
          "execution_count": 185
        }
      ]
    },
    {
      "cell_type": "markdown",
      "source": [
        "위키피디아의 카멜레온 데이터의 target은 5개의 Categorical 값을 갖지만, 회귀 문제에서는 적합하지 않은 target이기 때문에 회귀에 활용 가능한 형태의 Continuous 데이터를 다운 받아 활용한다."
      ],
      "metadata": {
        "id": "0WStsDP9WW9H"
      }
    },
    {
      "cell_type": "code",
      "source": [
        "from io import BytesIO\n",
        "from urllib.request import urlopen\n",
        "from zipfile import ZipFile\n",
        "\n",
        "url = 'https://snap.stanford.edu/data/wikipedia.zip'\n",
        "with urlopen(url) as zurl:\n",
        "    with ZipFile(BytesIO(zurl.read())) as zfile:\n",
        "        zfile.extractall('.')"
      ],
      "metadata": {
        "id": "t-OpbLVzK5Om"
      },
      "execution_count": 186,
      "outputs": []
    },
    {
      "cell_type": "code",
      "source": [
        "import pandas as pd\n",
        "\n",
        "df = pd.read_csv('wikipedia/chameleon/musae_chameleon_target.csv')\n",
        "values = np.log10(df['target']) # 로그 스케일링\n",
        "data.y = torch.tensor(values)\n",
        "data.y"
      ],
      "metadata": {
        "id": "ldHvHCbnUZlg",
        "outputId": "b73684ae-88db-45e5-f5db-deec6e12a876",
        "colab": {
          "base_uri": "https://localhost:8080/"
        }
      },
      "execution_count": 187,
      "outputs": [
        {
          "output_type": "execute_result",
          "data": {
            "text/plain": [
              "tensor([2.2330, 3.9079, 3.9329,  ..., 1.9956, 4.3598, 2.4409],\n",
              "       dtype=torch.float64)"
            ]
          },
          "metadata": {},
          "execution_count": 187
        }
      ]
    },
    {
      "cell_type": "code",
      "source": [
        "import seaborn as sns\n",
        "from scipy.stats import norm\n",
        "\n",
        "df['targert'] = values\n",
        "sns.distplot(df['target'], fit = norm)"
      ],
      "metadata": {
        "id": "5QLnHKc2UeSf",
        "outputId": "0835a073-4ade-42f1-b67f-e6d752567f48",
        "colab": {
          "base_uri": "https://localhost:8080/",
          "height": 679
        }
      },
      "execution_count": 188,
      "outputs": [
        {
          "output_type": "stream",
          "name": "stderr",
          "text": [
            "<ipython-input-188-44a0bb27526f>:5: UserWarning: \n",
            "\n",
            "`distplot` is a deprecated function and will be removed in seaborn v0.14.0.\n",
            "\n",
            "Please adapt your code to use either `displot` (a figure-level function with\n",
            "similar flexibility) or `histplot` (an axes-level function for histograms).\n",
            "\n",
            "For a guide to updating your code to use the new functions, please see\n",
            "https://gist.github.com/mwaskom/de44147ed2974457ad6372750bbe5751\n",
            "\n",
            "  sns.distplot(df['target'], fit = norm)\n"
          ]
        },
        {
          "output_type": "execute_result",
          "data": {
            "text/plain": [
              "<Axes: xlabel='target', ylabel='Density'>"
            ]
          },
          "metadata": {},
          "execution_count": 188
        },
        {
          "output_type": "display_data",
          "data": {
            "text/plain": [
              "<Figure size 640x480 with 1 Axes>"
            ],
            "image/png": "[encoded data removed]"
          },
          "metadata": {}
        }
      ]
    },
    {
      "cell_type": "code",
      "source": [
        "class GCN(torch.nn.Module):\n",
        "  def __init__(self, dim_in, dim_h, dim_out):\n",
        "    super().__init__()\n",
        "    self.gcn1 = GCNConv(dim_in, dim_h*4)\n",
        "    self.gcn2 = GCNConv(dim_h*4, dim_h*2)\n",
        "    self.gcn3 = GCNConv(dim_h*2, dim_h)\n",
        "    self.linear = torch.nn.Linear(dim_h, dim_out)\n",
        "\n",
        "  def forward(self, x, edge_index):\n",
        "    h = self.gcn1(x, edge_index)\n",
        "    h = torch.relu(h)\n",
        "    h = F.dropout(h, p = 0.5, training = self.training)\n",
        "    h = self.gcn2(h, edge_index)\n",
        "    h = torch.relu(h)\n",
        "    h = F.dropout(h, p = 0.5, training = self.training)\n",
        "    h = self.gcn3(h, edge_index)\n",
        "    h = torch.relu(h)\n",
        "    h = self.linear(h)\n",
        "    return h\n",
        "\n",
        "  def fit(self, data, epochs):\n",
        "    optimizer = torch.optim.Adam(self.parameters(), lr = 0.02, weight_decay = 5e-4)\n",
        "\n",
        "\n",
        "    self.train()\n",
        "    for epoch in range(epochs+1):\n",
        "      optimizer.zero_grad()\n",
        "      out = self(data.x, data.edge_index)\n",
        "      # print(out.squeeze()[data.train_mask[:, 0]])\n",
        "      # print(data.y.shape)\n",
        "      loss = F.mse_loss(out.squeeze()[data.train_mask], data.y[data.train_mask].float())\n",
        "      loss.backward()\n",
        "      optimizer.step()\n",
        "\n",
        "      if epoch % 20 == 0:\n",
        "        # print(out.squeeze()[data.val_mask].shape)\n",
        "        val_loss = F.mse_loss(out.squeeze()[data.val_mask], data.y[data.val_mask].float())\n",
        "        print(f'Epoch {epoch} | Train Loss: {loss:.4f} | Val Loss: {val_loss:.4f}')\n",
        "\n",
        "  @torch.no_grad()\n",
        "  def test(self, data):\n",
        "    self.eval()\n",
        "    out = self(data.x, data.edge_index)\n",
        "    loss = F.mse_loss(out.squeeze()[data.test_mask], data.y[data.test_mask].float()) # F.mse_loss 와 nn.torch.MSEloss 차이 확인 필요\n",
        "\n",
        "    return loss"
      ],
      "metadata": {
        "id": "SPzFImxRUozu"
      },
      "execution_count": 195,
      "outputs": []
    },
    {
      "cell_type": "code",
      "source": [
        "gcn = GCN(dataset.num_features, 128, 1)\n",
        "print(gcn)\n",
        "\n",
        "gcn.fit(data, epochs = 200)"
      ],
      "metadata": {
        "id": "OVOdp2xog-kl",
        "outputId": "418552df-ef93-4555-ea9a-c68f6d0153ca",
        "colab": {
          "base_uri": "https://localhost:8080/"
        }
      },
      "execution_count": 196,
      "outputs": [
        {
          "output_type": "stream",
          "name": "stdout",
          "text": [
            "GCN(\n",
            "  (gcn1): GCNConv(2325, 512)\n",
            "  (gcn2): GCNConv(512, 256)\n",
            "  (gcn3): GCNConv(256, 128)\n",
            "  (linear): Linear(in_features=128, out_features=1, bias=True)\n",
            ")\n",
            "Epoch 0 | Train Loss: 12.4132 | Val Loss: 12.2648\n",
            "Epoch 20 | Train Loss: 11.6002 | Val Loss: 11.4712\n",
            "Epoch 40 | Train Loss: 7.6687 | Val Loss: 7.4517\n",
            "Epoch 60 | Train Loss: 2.6386 | Val Loss: 3.4441\n",
            "Epoch 80 | Train Loss: 0.6235 | Val Loss: 0.9679\n",
            "Epoch 100 | Train Loss: 0.5331 | Val Loss: 0.9956\n",
            "Epoch 120 | Train Loss: 0.3819 | Val Loss: 0.6614\n",
            "Epoch 140 | Train Loss: 0.3417 | Val Loss: 0.7555\n",
            "Epoch 160 | Train Loss: 0.3173 | Val Loss: 0.6775\n",
            "Epoch 180 | Train Loss: 0.2891 | Val Loss: 0.6999\n",
            "Epoch 200 | Train Loss: 0.3096 | Val Loss: 0.6890\n"
          ]
        }
      ]
    },
    {
      "cell_type": "code",
      "source": [
        "loss = gcn.test(data)\n",
        "loss"
      ],
      "metadata": {
        "id": "oBPRtnROhR4Y",
        "outputId": "93334121-c09d-4ca3-c0c4-53b17bff7a21",
        "colab": {
          "base_uri": "https://localhost:8080/"
        }
      },
      "execution_count": 198,
      "outputs": [
        {
          "output_type": "execute_result",
          "data": {
            "text/plain": [
              "tensor(0.7215)"
            ]
          },
          "metadata": {},
          "execution_count": 198
        }
      ]
    },
    {
      "cell_type": "code",
      "source": [],
      "metadata": {
        "id": "kZ9Yi97dvJsM"
      },
      "execution_count": null,
      "outputs": []
    }
  ]
}